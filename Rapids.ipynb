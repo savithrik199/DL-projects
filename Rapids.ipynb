{
  "nbformat": 4,
  "nbformat_minor": 0,
  "metadata": {
    "colab": {
      "name": "Rapids.ipynb",
      "provenance": [],
      "collapsed_sections": [],
      "mount_file_id": "1qN8yede0eoViEaCiGB6_f7L__88c6bO_",
      "authorship_tag": "ABX9TyOyUyHAg7cEDjt02+MNWPuI",
      "include_colab_link": true
    },
    "kernelspec": {
      "name": "python3",
      "display_name": "Python 3"
    },
    "accelerator": "GPU"
  },
  "cells": [
    {
      "cell_type": "markdown",
      "metadata": {
        "id": "view-in-github",
        "colab_type": "text"
      },
      "source": [
        "<a href=\"https://colab.research.google.com/github/savithrik199/DL-projects/blob/main/Rapids.ipynb\" target=\"_parent\"><img src=\"https://colab.research.google.com/assets/colab-badge.svg\" alt=\"Open In Colab\"/></a>"
      ]
    },
    {
      "cell_type": "code",
      "metadata": {
        "colab": {
          "base_uri": "https://localhost:8080/"
        },
        "id": "tRkWdlEfnook",
        "outputId": "89b8a5a2-f72f-41c8-db9a-4b830b513970"
      },
      "source": [
        "!wget \"http://eforexcel.com/wp/wp-content/uploads/2020/09/5m-Sales-Records.zip\"\n"
      ],
      "execution_count": null,
      "outputs": [
        {
          "output_type": "stream",
          "text": [
            "--2021-02-10 17:58:08--  http://eforexcel.com/wp/wp-content/uploads/2020/09/5m-Sales-Records.zip\n",
            "Resolving eforexcel.com (eforexcel.com)... 162.214.80.24\n",
            "Connecting to eforexcel.com (eforexcel.com)|162.214.80.24|:80... connected.\n",
            "HTTP request sent, awaiting response... 200 OK\n",
            "Length: 201708941 (192M) [application/zip]\n",
            "Saving to: ‘5m-Sales-Records.zip’\n",
            "\n",
            "5m-Sales-Records.zi 100%[===================>] 192.36M  55.4MB/s    in 3.8s    \n",
            "\n",
            "2021-02-10 17:58:12 (50.8 MB/s) - ‘5m-Sales-Records.zip’ saved [201708941/201708941]\n",
            "\n"
          ],
          "name": "stdout"
        }
      ]
    },
    {
      "cell_type": "code",
      "metadata": {
        "colab": {
          "base_uri": "https://localhost:8080/"
        },
        "id": "lBeUQkB5LVKe",
        "outputId": "f64b3a38-ce07-4aca-ba02-b99f29f97dc4"
      },
      "source": [
        "!nvidia-smi"
      ],
      "execution_count": null,
      "outputs": [
        {
          "output_type": "stream",
          "text": [
            "Wed Feb 10 17:58:12 2021       \n",
            "+-----------------------------------------------------------------------------+\n",
            "| NVIDIA-SMI 460.39       Driver Version: 418.67       CUDA Version: 10.1     |\n",
            "|-------------------------------+----------------------+----------------------+\n",
            "| GPU  Name        Persistence-M| Bus-Id        Disp.A | Volatile Uncorr. ECC |\n",
            "| Fan  Temp  Perf  Pwr:Usage/Cap|         Memory-Usage | GPU-Util  Compute M. |\n",
            "|                               |                      |               MIG M. |\n",
            "|===============================+======================+======================|\n",
            "|   0  Tesla T4            Off  | 00000000:00:04.0 Off |                    0 |\n",
            "| N/A   55C    P8    10W /  70W |      0MiB / 15079MiB |      0%      Default |\n",
            "|                               |                      |                 ERR! |\n",
            "+-------------------------------+----------------------+----------------------+\n",
            "                                                                               \n",
            "+-----------------------------------------------------------------------------+\n",
            "| Processes:                                                                  |\n",
            "|  GPU   GI   CI        PID   Type   Process name                  GPU Memory |\n",
            "|        ID   ID                                                   Usage      |\n",
            "|=============================================================================|\n",
            "|  No running processes found                                                 |\n",
            "+-----------------------------------------------------------------------------+\n"
          ],
          "name": "stdout"
        }
      ]
    },
    {
      "cell_type": "code",
      "metadata": {
        "id": "8ICoIGVVn66q"
      },
      "source": [
        "import zipfile\n",
        "import os\n",
        "with zipfile.ZipFile(\"/content/5m-Sales-Records.zip\", 'r') as zip_ref:\n",
        "    zip_ref.extractall()"
      ],
      "execution_count": null,
      "outputs": []
    },
    {
      "cell_type": "code",
      "metadata": {
        "colab": {
          "base_uri": "https://localhost:8080/"
        },
        "id": "qqS1Zt_b9Uzd",
        "outputId": "e27d2998-57cc-4538-fe61-a288a7f13d29"
      },
      "source": [
        "!git clone https://github.com/rapidsai/rapidsai-csp-utils.git\n",
        "!bash rapidsai-csp-utils/colab/rapids-colab.sh\n",
        "\n",
        "import sys, os\n",
        "\n",
        "dist_package_index = sys.path.index('/usr/local/lib/python3.6/dist-packages')\n",
        "sys.path = sys.path[:dist_package_index] + ['/usr/local/lib/python3.6/site-packages'] + sys.path[dist_package_index:]\n",
        "sys.path\n",
        "exec(open('rapidsai-csp-utils/colab/update_modules.py').read(), globals())"
      ],
      "execution_count": null,
      "outputs": [
        {
          "output_type": "stream",
          "text": [
            "Cloning into 'rapidsai-csp-utils'...\n",
            "remote: Enumerating objects: 19, done.\u001b[K\n",
            "remote: Counting objects: 100% (19/19), done.\u001b[K\n",
            "remote: Compressing objects: 100% (19/19), done.\u001b[K\n",
            "remote: Total 190 (delta 8), reused 0 (delta 0), pack-reused 171\u001b[K\n",
            "Receiving objects: 100% (190/190), 58.54 KiB | 11.71 MiB/s, done.\n",
            "Resolving deltas: 100% (70/70), done.\n",
            "PLEASE READ\n",
            "********************************************************************************************************\n",
            "Changes:\n",
            "1. IMPORTANT CHANGES: RAPIDS on Colab will be pegged to 0.14 Stable until further notice.  This version of RAPIDS, while works, is outdated.  We have alternative solutions, https://app.blazingsql.com, to run the latest versions of RAPIDS\n",
            "2. Default stable version is now 0.14.  Nightly will redirect to 0.14.\n",
            "3. You can now declare your RAPIDSAI version as a CLI option and skip the user prompts (ex: '0.14' or '0.15', between 0.13 to 0.14, without the quotes): \n",
            "        \"!bash rapidsai-csp-utils/colab/rapids-colab.sh <version/label>\"\n",
            "        Examples: '!bash rapidsai-csp-utils/colab/rapids-colab.sh 0.14', or '!bash rapidsai-csp-utils/colab/rapids-colab.sh stable', or '!bash rapidsai-csp-utils/colab/rapids-colab.sh s'\n",
            "                  '!bash rapidsai-csp-utils/colab/rapids-colab.sh 0.15, or '!bash rapidsai-csp-utils/colab/rapids-colab.sh nightly', or '!bash rapidsai-csp-utils/colab/rapids-colab.sh n'\n",
            "Enjoy using RAPIDS!  If you have any issues with or suggestions for RAPIDSAI on Colab, please create a bug request on https://github.com/rapidsai/rapidsai-csp-utils/issues/new.  Thanks!\n",
            "As you didn't specify a RAPIDS version, please enter in the box your desired RAPIDS version (ex: '0.14' or '0.15', between 0.13 to 0.15, without the quotes)\n",
            "and hit Enter. If you need stability, use 0.14. If you want bleeding edge, use our nightly version (0.15), but understand that caveats that come with nightly versions.\n",
            "0.14\n",
            "rapidsai-csp-utils/colab/rapids-colab.sh: line 122: 14: command not found\n",
            "RAPIDS Version to install is 0.14\n",
            "Checking for GPU type:\n",
            "***********************************************************************\n",
            "Woo! Your instance has the right kind of GPU, a 'Tesla T4'!\n",
            "***********************************************************************\n",
            "\n",
            "Removing conflicting packages, will replace with RAPIDS compatible versions\n",
            "Uninstalling xgboost-0.90:\n",
            "  Successfully uninstalled xgboost-0.90\n",
            "Uninstalling dask-2.12.0:\n",
            "  Successfully uninstalled dask-2.12.0\n",
            "Uninstalling distributed-1.25.3:\n",
            "  Successfully uninstalled distributed-1.25.3\n",
            "Installing conda\n",
            "--2021-02-10 17:58:46--  https://repo.continuum.io/miniconda/Miniconda3-4.5.4-Linux-x86_64.sh\n",
            "Resolving repo.continuum.io (repo.continuum.io)... 104.18.200.79, 104.18.201.79, 2606:4700::6812:c94f, ...\n",
            "Connecting to repo.continuum.io (repo.continuum.io)|104.18.200.79|:443... connected.\n",
            "HTTP request sent, awaiting response... 301 Moved Permanently\n",
            "Location: https://repo.anaconda.com/miniconda/Miniconda3-4.5.4-Linux-x86_64.sh [following]\n",
            "--2021-02-10 17:58:46--  https://repo.anaconda.com/miniconda/Miniconda3-4.5.4-Linux-x86_64.sh\n",
            "Resolving repo.anaconda.com (repo.anaconda.com)... 104.16.131.3, 104.16.130.3, 2606:4700::6810:8303, ...\n",
            "Connecting to repo.anaconda.com (repo.anaconda.com)|104.16.131.3|:443... connected.\n",
            "HTTP request sent, awaiting response... 200 OK\n",
            "Length: 58468498 (56M) [application/x-sh]\n",
            "Saving to: ‘Miniconda3-4.5.4-Linux-x86_64.sh’\n",
            "\n",
            "Miniconda3-4.5.4-Li 100%[===================>]  55.76M   180MB/s    in 0.3s    \n",
            "\n",
            "2021-02-10 17:58:46 (180 MB/s) - ‘Miniconda3-4.5.4-Linux-x86_64.sh’ saved [58468498/58468498]\n",
            "\n",
            "PREFIX=/usr/local\n",
            "installing: python-3.6.5-hc3d631a_2 ...\n",
            "Python 3.6.5 :: Anaconda, Inc.\n",
            "installing: ca-certificates-2018.03.07-0 ...\n",
            "installing: conda-env-2.6.0-h36134e3_1 ...\n",
            "installing: libgcc-ng-7.2.0-hdf63c60_3 ...\n",
            "installing: libstdcxx-ng-7.2.0-hdf63c60_3 ...\n",
            "installing: libffi-3.2.1-hd88cf55_4 ...\n",
            "installing: ncurses-6.1-hf484d3e_0 ...\n",
            "installing: openssl-1.0.2o-h20670df_0 ...\n",
            "installing: tk-8.6.7-hc745277_3 ...\n",
            "installing: xz-5.2.4-h14c3975_4 ...\n",
            "installing: yaml-0.1.7-had09818_2 ...\n",
            "installing: zlib-1.2.11-ha838bed_2 ...\n",
            "installing: libedit-3.1.20170329-h6b74fdf_2 ...\n",
            "installing: readline-7.0-ha6073c6_4 ...\n",
            "installing: sqlite-3.23.1-he433501_0 ...\n",
            "installing: asn1crypto-0.24.0-py36_0 ...\n",
            "installing: certifi-2018.4.16-py36_0 ...\n",
            "installing: chardet-3.0.4-py36h0f667ec_1 ...\n",
            "installing: idna-2.6-py36h82fb2a8_1 ...\n",
            "installing: pycosat-0.6.3-py36h0a5515d_0 ...\n",
            "installing: pycparser-2.18-py36hf9f622e_1 ...\n",
            "installing: pysocks-1.6.8-py36_0 ...\n",
            "installing: ruamel_yaml-0.15.37-py36h14c3975_2 ...\n",
            "installing: six-1.11.0-py36h372c433_1 ...\n",
            "installing: cffi-1.11.5-py36h9745a5d_0 ...\n",
            "installing: setuptools-39.2.0-py36_0 ...\n",
            "installing: cryptography-2.2.2-py36h14c3975_0 ...\n",
            "installing: wheel-0.31.1-py36_0 ...\n",
            "installing: pip-10.0.1-py36_0 ...\n",
            "installing: pyopenssl-18.0.0-py36_0 ...\n",
            "installing: urllib3-1.22-py36hbe7ace6_0 ...\n",
            "installing: requests-2.18.4-py36he2e5f8d_1 ...\n",
            "installing: conda-4.5.4-py36_0 ...\n",
            "installation finished.\n",
            "WARNING:\n",
            "    You currently have a PYTHONPATH environment variable set. This may cause\n",
            "    unexpected behavior when running the Python interpreter in Miniconda3.\n",
            "    For best results, please verify that your PYTHONPATH only points to\n",
            "    directories of packages that are compatible with the Python interpreter\n",
            "    in Miniconda3: /usr/local\n",
            "Solving environment: - \b\b\\ \b\b| \b\b/ \b\b- \b\b\\ \b\b| \b\b/ \b\b- \b\b\\ \b\b| \b\b/ \b\b- \b\b\\ \b\b| \b\b/ \b\b- \b\b\\ \b\b| \b\b/ \b\b- \b\b\\ \b\b| \b\b/ \b\b- \b\b\\ \b\b| \b\b/ \b\b- \b\b\\ \b\b| \b\b/ \b\b- \b\b\\ \b\b| \b\b/ \b\b- \b\b\\ \b\b| \b\b/ \b\b- \b\b\\ \b\b| \b\b/ \b\b- \b\b\\ \b\b| \b\b/ \b\b- \b\b\\ \b\b| \b\b/ \b\b- \b\b\\ \b\b| \b\b/ \b\b- \b\b\\ \b\b| \b\b/ \b\b- \b\b\\ \b\b| \b\b/ \b\b- \b\b\\ \b\b| \b\b/ \b\b- \b\b\\ \b\b| \b\b/ \b\b- \b\b\\ \b\b| \b\b/ \b\b- \b\b\\ \b\b| \b\b/ \b\b- \b\b\\ \b\b| \b\b/ \b\b- \b\b\\ \b\b| \b\b/ \b\b- \b\b\\ \b\b| \b\b/ \b\b- \b\b\\ \b\b| \b\b/ \b\b- \b\b\\ \b\b| \b\b/ \b\b- \b\b\\ \b\b| \b\b/ \b\b- \b\b\\ \b\b| \b\b/ \b\b- \b\b\\ \b\b| \b\b/ \b\b- \b\bdone\n",
            "\n",
            "## Package Plan ##\n",
            "\n",
            "  environment location: /usr/local\n",
            "\n",
            "  added / updated specs: \n",
            "    - conda\n",
            "    - python=3.6\n",
            "\n",
            "\n",
            "The following packages will be downloaded:\n",
            "\n",
            "    package                    |            build\n",
            "    ---------------------------|-----------------\n",
            "    ncurses-6.2                |       he6710b0_1         1.1 MB\n",
            "    pysocks-1.7.1              |   py36h06a4308_0          30 KB\n",
            "    ruamel_yaml-0.15.87        |   py36h7b6447c_1         256 KB\n",
            "    libstdcxx-ng-9.1.0         |       hdf63c60_0         4.0 MB\n",
            "    ld_impl_linux-64-2.33.1    |       h53a641e_7         645 KB\n",
            "    pycosat-0.6.3              |   py36h27cfd23_0         107 KB\n",
            "    libedit-3.1.20191231       |       h14c3975_1         121 KB\n",
            "    sqlite-3.33.0              |       h62c20be_0         2.0 MB\n",
            "    brotlipy-0.7.0             |py36h27cfd23_1003         349 KB\n",
            "    _libgcc_mutex-0.1          |             main           3 KB\n",
            "    python-3.6.12              |       hcff3b4d_2        34.0 MB\n",
            "    ca-certificates-2021.1.19  |       h06a4308_0         128 KB\n",
            "    pip-20.3.3                 |   py36h06a4308_0         2.0 MB\n",
            "    pycparser-2.20             |             py_2          94 KB\n",
            "    six-1.15.0                 |     pyhd3eb1b0_0          13 KB\n",
            "    cffi-1.14.4                |   py36h261ae71_0         224 KB\n",
            "    pyopenssl-20.0.1           |     pyhd3eb1b0_1          48 KB\n",
            "    chardet-4.0.0              |py36h06a4308_1003         213 KB\n",
            "    libgcc-ng-9.1.0            |       hdf63c60_0         8.1 MB\n",
            "    requests-2.25.1            |     pyhd3eb1b0_0          51 KB\n",
            "    yaml-0.2.5                 |       h7b6447c_0          87 KB\n",
            "    wheel-0.36.2               |     pyhd3eb1b0_0          31 KB\n",
            "    setuptools-52.0.0          |   py36h06a4308_0         933 KB\n",
            "    tk-8.6.10                  |       hbc83047_0         3.2 MB\n",
            "    urllib3-1.26.3             |     pyhd3eb1b0_0          99 KB\n",
            "    cryptography-3.3.1         |   py36h3c74f83_0         638 KB\n",
            "    conda-package-handling-1.7.2|   py36h03888b9_0         967 KB\n",
            "    openssl-1.1.1i             |       h27cfd23_0         3.8 MB\n",
            "    idna-2.10                  |     pyhd3eb1b0_0          52 KB\n",
            "    zlib-1.2.11                |       h7b6447c_3         120 KB\n",
            "    conda-4.9.2                |   py36h06a4308_0         3.1 MB\n",
            "    certifi-2020.12.5          |   py36h06a4308_0         144 KB\n",
            "    tqdm-4.56.0                |     pyhd3eb1b0_0          76 KB\n",
            "    libffi-3.3                 |       he6710b0_2          54 KB\n",
            "    readline-8.1               |       h27cfd23_0         464 KB\n",
            "    xz-5.2.5                   |       h7b6447c_0         438 KB\n",
            "    ------------------------------------------------------------\n",
            "                                           Total:        67.6 MB\n",
            "\n",
            "The following NEW packages will be INSTALLED:\n",
            "\n",
            "    _libgcc_mutex:          0.1-main               \n",
            "    brotlipy:               0.7.0-py36h27cfd23_1003\n",
            "    conda-package-handling: 1.7.2-py36h03888b9_0   \n",
            "    ld_impl_linux-64:       2.33.1-h53a641e_7      \n",
            "    tqdm:                   4.56.0-pyhd3eb1b0_0    \n",
            "\n",
            "The following packages will be UPDATED:\n",
            "\n",
            "    ca-certificates:        2018.03.07-0            --> 2021.1.19-h06a4308_0    \n",
            "    certifi:                2018.4.16-py36_0        --> 2020.12.5-py36h06a4308_0\n",
            "    cffi:                   1.11.5-py36h9745a5d_0   --> 1.14.4-py36h261ae71_0   \n",
            "    chardet:                3.0.4-py36h0f667ec_1    --> 4.0.0-py36h06a4308_1003 \n",
            "    conda:                  4.5.4-py36_0            --> 4.9.2-py36h06a4308_0    \n",
            "    cryptography:           2.2.2-py36h14c3975_0    --> 3.3.1-py36h3c74f83_0    \n",
            "    idna:                   2.6-py36h82fb2a8_1      --> 2.10-pyhd3eb1b0_0       \n",
            "    libedit:                3.1.20170329-h6b74fdf_2 --> 3.1.20191231-h14c3975_1 \n",
            "    libffi:                 3.2.1-hd88cf55_4        --> 3.3-he6710b0_2          \n",
            "    libgcc-ng:              7.2.0-hdf63c60_3        --> 9.1.0-hdf63c60_0        \n",
            "    libstdcxx-ng:           7.2.0-hdf63c60_3        --> 9.1.0-hdf63c60_0        \n",
            "    ncurses:                6.1-hf484d3e_0          --> 6.2-he6710b0_1          \n",
            "    openssl:                1.0.2o-h20670df_0       --> 1.1.1i-h27cfd23_0       \n",
            "    pip:                    10.0.1-py36_0           --> 20.3.3-py36h06a4308_0   \n",
            "    pycosat:                0.6.3-py36h0a5515d_0    --> 0.6.3-py36h27cfd23_0    \n",
            "    pycparser:              2.18-py36hf9f622e_1     --> 2.20-py_2               \n",
            "    pyopenssl:              18.0.0-py36_0           --> 20.0.1-pyhd3eb1b0_1     \n",
            "    pysocks:                1.6.8-py36_0            --> 1.7.1-py36h06a4308_0    \n",
            "    python:                 3.6.5-hc3d631a_2        --> 3.6.12-hcff3b4d_2       \n",
            "    readline:               7.0-ha6073c6_4          --> 8.1-h27cfd23_0          \n",
            "    requests:               2.18.4-py36he2e5f8d_1   --> 2.25.1-pyhd3eb1b0_0     \n",
            "    ruamel_yaml:            0.15.37-py36h14c3975_2  --> 0.15.87-py36h7b6447c_1  \n",
            "    setuptools:             39.2.0-py36_0           --> 52.0.0-py36h06a4308_0   \n",
            "    six:                    1.11.0-py36h372c433_1   --> 1.15.0-pyhd3eb1b0_0     \n",
            "    sqlite:                 3.23.1-he433501_0       --> 3.33.0-h62c20be_0       \n",
            "    tk:                     8.6.7-hc745277_3        --> 8.6.10-hbc83047_0       \n",
            "    urllib3:                1.22-py36hbe7ace6_0     --> 1.26.3-pyhd3eb1b0_0     \n",
            "    wheel:                  0.31.1-py36_0           --> 0.36.2-pyhd3eb1b0_0     \n",
            "    xz:                     5.2.4-h14c3975_4        --> 5.2.5-h7b6447c_0        \n",
            "    yaml:                   0.1.7-had09818_2        --> 0.2.5-h7b6447c_0        \n",
            "    zlib:                   1.2.11-ha838bed_2       --> 1.2.11-h7b6447c_3       \n",
            "\n",
            "\n",
            "Downloading and Extracting Packages\n",
            "ncurses-6.2          |  1.1 MB | : 100% 1.0/1 [00:00<00:00,  1.34it/s]               \n",
            "pysocks-1.7.1        |   30 KB | : 100% 1.0/1 [00:00<00:00, 31.12it/s]\n",
            "ruamel_yaml-0.15.87  |  256 KB | : 100% 1.0/1 [00:00<00:00, 11.59it/s]\n",
            "libstdcxx-ng-9.1.0   |  4.0 MB | : 100% 1.0/1 [00:00<00:00,  1.67it/s]              \n",
            "ld_impl_linux-64-2.3 |  645 KB | : 100% 1.0/1 [00:00<00:00,  5.64it/s]               \n",
            "pycosat-0.6.3        |  107 KB | : 100% 1.0/1 [00:00<00:00, 22.63it/s]\n",
            "libedit-3.1.20191231 |  121 KB | : 100% 1.0/1 [00:00<00:00, 19.66it/s]\n",
            "sqlite-3.33.0        |  2.0 MB | : 100% 1.0/1 [00:00<00:00,  3.10it/s]               \n",
            "brotlipy-0.7.0       |  349 KB | : 100% 1.0/1 [00:00<00:00, 10.90it/s]\n",
            "_libgcc_mutex-0.1    |    3 KB | : 100% 1.0/1 [00:00<00:00, 35.74it/s]\n",
            "python-3.6.12        | 34.0 MB | : 100% 1.0/1 [00:04<00:00,  4.69s/it]               \n",
            "ca-certificates-2021 |  128 KB | : 100% 1.0/1 [00:00<00:00, 31.22it/s]\n",
            "pip-20.3.3           |  2.0 MB | : 100% 1.0/1 [00:00<00:00,  1.75it/s]               \n",
            "pycparser-2.20       |   94 KB | : 100% 1.0/1 [00:00<00:00, 15.15it/s]\n",
            "six-1.15.0           |   13 KB | : 100% 1.0/1 [00:00<00:00, 40.15it/s]\n",
            "cffi-1.14.4          |  224 KB | : 100% 1.0/1 [00:00<00:00, 14.37it/s]\n",
            "pyopenssl-20.0.1     |   48 KB | : 100% 1.0/1 [00:00<00:00, 19.41it/s]\n",
            "chardet-4.0.0        |  213 KB | : 100% 1.0/1 [00:00<00:00, 11.88it/s]\n",
            "libgcc-ng-9.1.0      |  8.1 MB | : 100% 1.0/1 [00:01<00:00,  1.13s/it]               \n",
            "requests-2.25.1      |   51 KB | : 100% 1.0/1 [00:00<00:00, 34.27it/s]\n",
            "yaml-0.2.5           |   87 KB | : 100% 1.0/1 [00:00<00:00, 25.07it/s]\n",
            "wheel-0.36.2         |   31 KB | : 100% 1.0/1 [00:00<00:00, 36.08it/s]\n",
            "setuptools-52.0.0    |  933 KB | : 100% 1.0/1 [00:00<00:00,  3.70it/s]               \n",
            "tk-8.6.10            |  3.2 MB | : 100% 1.0/1 [00:00<00:00,  1.62it/s]               \n",
            "urllib3-1.26.3       |   99 KB | : 100% 1.0/1 [00:00<00:00, 22.38it/s]\n",
            "cryptography-3.3.1   |  638 KB | : 100% 1.0/1 [00:00<00:00,  4.87it/s]               \n",
            "conda-package-handli |  967 KB | : 100% 1.0/1 [00:00<00:00,  6.51it/s]              \n",
            "openssl-1.1.1i       |  3.8 MB | : 100% 1.0/1 [00:00<00:00,  1.39it/s]               \n",
            "idna-2.10            |   52 KB | : 100% 1.0/1 [00:00<00:00, 35.46it/s]\n",
            "zlib-1.2.11          |  120 KB | : 100% 1.0/1 [00:00<00:00, 22.88it/s]\n",
            "conda-4.9.2          |  3.1 MB | : 100% 1.0/1 [00:00<00:00,  1.44it/s]               \n",
            "certifi-2020.12.5    |  144 KB | : 100% 1.0/1 [00:00<00:00, 22.29it/s]\n",
            "tqdm-4.56.0          |   76 KB | : 100% 1.0/1 [00:00<00:00, 23.76it/s]\n",
            "libffi-3.3           |   54 KB | : 100% 1.0/1 [00:00<00:00, 32.19it/s]\n",
            "readline-8.1         |  464 KB | : 100% 1.0/1 [00:00<00:00,  9.21it/s]\n",
            "xz-5.2.5             |  438 KB | : 100% 1.0/1 [00:00<00:00,  8.53it/s]\n",
            "Preparing transaction: | \b\b/ \b\b- \b\b\\ \b\bdone\n",
            "Verifying transaction: / \b\b- \b\b\\ \b\b| \b\b/ \b\b- \b\b\\ \b\b| \b\b/ \b\b- \b\b\\ \b\b| \b\b/ \b\b- \b\b\\ \b\b| \b\b/ \b\bdone\n",
            "Executing transaction: \\ \b\b| \b\b/ \b\b- \b\b\\ \b\b| \b\b/ \b\b- \b\b\\ \b\b| \b\b/ \b\b- \b\b\\ \b\b| \b\b/ \b\b- \b\b\\ \b\b| \b\b/ \b\b- \b\b\\ \b\b| \b\b/ \b\b- \b\b\\ \b\b| \b\b/ \b\b- \b\b\\ \b\b| \b\b/ \b\b- \b\b\\ \b\b| \b\b/ \b\b- \b\b\\ \b\b| \b\b/ \b\b- \b\b\\ \b\b| \b\b/ \b\b- \b\b\\ \b\b| \b\b/ \b\b- \b\b\\ \b\b| \b\b/ \b\b- \b\b\\ \b\b| \b\b/ \b\b- \b\b\\ \b\b| \b\b/ \b\b- \b\b\\ \b\b| \b\b/ \b\b- \b\bdone\n",
            "Collecting package metadata (current_repodata.json): - \b\b\\ \b\b| \b\b/ \b\b- \b\b\\ \b\b| \b\b/ \b\b- \b\b\\ \b\b| \b\b/ \b\b- \b\b\\ \b\b| \b\b/ \b\b- \b\b\\ \b\b| \b\b/ \b\b- \b\b\\ \b\b| \b\b/ \b\b- \b\b\\ \b\b| \b\b/ \b\b- \b\b\\ \b\b| \b\b/ \b\b- \b\b\\ \b\b| \b\b/ \b\b- \b\b\\ \b\b| \b\b/ \b\b- \b\b\\ \b\b| \b\b/ \b\b- \b\b\\ \b\b| \b\b/ \b\b- \b\b\\ \b\b| \b\b/ \b\b- \b\b\\ \b\b| \b\b/ \b\b- \b\b\\ \b\b| \b\b/ \b\b- \b\b\\ \b\b| \b\b/ \b\bdone\n",
            "Solving environment: \\ \b\b| \b\b/ \b\b- \b\b\\ \b\b| \b\b/ \b\b- \b\b\\ \b\b| \b\bdone\n",
            "\n",
            "## Package Plan ##\n",
            "\n",
            "  environment location: /usr/local\n",
            "\n",
            "\n",
            "The following packages will be downloaded:\n",
            "\n",
            "    package                    |            build\n",
            "    ---------------------------|-----------------\n",
            "    _libgcc_mutex-0.1          |      conda_forge           3 KB  conda-forge\n",
            "    _openmp_mutex-4.5          |            1_gnu          22 KB  conda-forge\n",
            "    brotlipy-0.7.0             |py36h8f6f2f9_1001         341 KB  conda-forge\n",
            "    ca-certificates-2020.12.5  |       ha878542_0         137 KB  conda-forge\n",
            "    certifi-2020.12.5          |   py36h5fab9bb_1         143 KB  conda-forge\n",
            "    cffi-1.14.4                |   py36hc120d54_1         225 KB  conda-forge\n",
            "    chardet-4.0.0              |   py36h5fab9bb_1         219 KB  conda-forge\n",
            "    conda-4.9.2                |   py36h5fab9bb_0         3.0 MB  conda-forge\n",
            "    conda-package-handling-1.7.2|   py36he6145b8_0         925 KB  conda-forge\n",
            "    cryptography-3.3.1         |   py36h0a59100_1         624 KB  conda-forge\n",
            "    idna-2.10                  |     pyh9f0ad1d_0          52 KB  conda-forge\n",
            "    ld_impl_linux-64-2.35.1    |       hea4e1c9_2         618 KB  conda-forge\n",
            "    libffi-3.3                 |       h58526e2_2          51 KB  conda-forge\n",
            "    libgcc-ng-9.3.0            |      h2828fa1_18         7.8 MB  conda-forge\n",
            "    libgomp-9.3.0              |      h2828fa1_18         376 KB  conda-forge\n",
            "    libstdcxx-ng-9.3.0         |      h6de172a_18         4.0 MB  conda-forge\n",
            "    ncurses-6.2                |       h58526e2_4         985 KB  conda-forge\n",
            "    openssl-1.1.1i             |       h7f98852_0         2.1 MB  conda-forge\n",
            "    pip-21.0.1                 |     pyhd8ed1ab_0         1.1 MB  conda-forge\n",
            "    pycosat-0.6.3              |py36h8f6f2f9_1006         107 KB  conda-forge\n",
            "    pycparser-2.20             |     pyh9f0ad1d_2          94 KB  conda-forge\n",
            "    pyopenssl-20.0.1           |     pyhd8ed1ab_0          48 KB  conda-forge\n",
            "    pysocks-1.7.1              |   py36h5fab9bb_3          27 KB  conda-forge\n",
            "    python_abi-3.6             |          1_cp36m           4 KB  conda-forge\n",
            "    readline-8.0               |       he28a2e2_2         281 KB  conda-forge\n",
            "    requests-2.25.1            |     pyhd3deb0d_0          51 KB  conda-forge\n",
            "    ruamel_yaml-0.15.80        |py36h8f6f2f9_1004         268 KB  conda-forge\n",
            "    setuptools-49.6.0          |   py36h5fab9bb_3         936 KB  conda-forge\n",
            "    six-1.15.0                 |     pyh9f0ad1d_0          14 KB  conda-forge\n",
            "    sqlite-3.34.0              |       h74cdb3f_0         1.4 MB  conda-forge\n",
            "    tk-8.6.10                  |       h21135ba_1         3.2 MB  conda-forge\n",
            "    tqdm-4.56.1                |     pyhd8ed1ab_0          76 KB  conda-forge\n",
            "    urllib3-1.26.3             |     pyhd8ed1ab_0          99 KB  conda-forge\n",
            "    wheel-0.36.2               |     pyhd3deb0d_0          31 KB  conda-forge\n",
            "    xz-5.2.5                   |       h516909a_1         343 KB  conda-forge\n",
            "    yaml-0.2.5                 |       h516909a_0          82 KB  conda-forge\n",
            "    zlib-1.2.11                |    h516909a_1010         106 KB  conda-forge\n",
            "    ------------------------------------------------------------\n",
            "                                           Total:        29.8 MB\n",
            "\n",
            "The following NEW packages will be INSTALLED:\n",
            "\n",
            "  _openmp_mutex      conda-forge/linux-64::_openmp_mutex-4.5-1_gnu\n",
            "  libgomp            conda-forge/linux-64::libgomp-9.3.0-h2828fa1_18\n",
            "  python_abi         conda-forge/linux-64::python_abi-3.6-1_cp36m\n",
            "\n",
            "The following packages will be REMOVED:\n",
            "\n",
            "  asn1crypto-0.24.0-py36_0\n",
            "  conda-env-2.6.0-h36134e3_1\n",
            "  libedit-3.1.20191231-h14c3975_1\n",
            "\n",
            "The following packages will be UPDATED:\n",
            "\n",
            "  certifi            pkgs/main::certifi-2020.12.5-py36h06a~ --> conda-forge::certifi-2020.12.5-py36h5fab9bb_1\n",
            "  cffi                pkgs/main::cffi-1.14.4-py36h261ae71_0 --> conda-forge::cffi-1.14.4-py36hc120d54_1\n",
            "  cryptography       pkgs/main::cryptography-3.3.1-py36h3c~ --> conda-forge::cryptography-3.3.1-py36h0a59100_1\n",
            "  ld_impl_linux-64   pkgs/main::ld_impl_linux-64-2.33.1-h5~ --> conda-forge::ld_impl_linux-64-2.35.1-hea4e1c9_2\n",
            "  libgcc-ng           pkgs/main::libgcc-ng-9.1.0-hdf63c60_0 --> conda-forge::libgcc-ng-9.3.0-h2828fa1_18\n",
            "  libstdcxx-ng       pkgs/main::libstdcxx-ng-9.1.0-hdf63c6~ --> conda-forge::libstdcxx-ng-9.3.0-h6de172a_18\n",
            "  ncurses                 pkgs/main::ncurses-6.2-he6710b0_1 --> conda-forge::ncurses-6.2-h58526e2_4\n",
            "  pip                pkgs/main/linux-64::pip-20.3.3-py36h0~ --> conda-forge/noarch::pip-21.0.1-pyhd8ed1ab_0\n",
            "  pycosat            pkgs/main::pycosat-0.6.3-py36h27cfd23~ --> conda-forge::pycosat-0.6.3-py36h8f6f2f9_1006\n",
            "  pysocks            pkgs/main::pysocks-1.7.1-py36h06a4308~ --> conda-forge::pysocks-1.7.1-py36h5fab9bb_3\n",
            "  sqlite                pkgs/main::sqlite-3.33.0-h62c20be_0 --> conda-forge::sqlite-3.34.0-h74cdb3f_0\n",
            "  tk                        pkgs/main::tk-8.6.10-hbc83047_0 --> conda-forge::tk-8.6.10-h21135ba_1\n",
            "  tqdm                  pkgs/main::tqdm-4.56.0-pyhd3eb1b0_0 --> conda-forge::tqdm-4.56.1-pyhd8ed1ab_0\n",
            "  xz                         pkgs/main::xz-5.2.5-h7b6447c_0 --> conda-forge::xz-5.2.5-h516909a_1\n",
            "  zlib                    pkgs/main::zlib-1.2.11-h7b6447c_3 --> conda-forge::zlib-1.2.11-h516909a_1010\n",
            "\n",
            "The following packages will be SUPERSEDED by a higher-priority channel:\n",
            "\n",
            "  _libgcc_mutex           pkgs/main::_libgcc_mutex-0.1-main --> conda-forge::_libgcc_mutex-0.1-conda_forge\n",
            "  brotlipy           pkgs/main::brotlipy-0.7.0-py36h27cfd2~ --> conda-forge::brotlipy-0.7.0-py36h8f6f2f9_1001\n",
            "  ca-certificates    pkgs/main::ca-certificates-2021.1.19-~ --> conda-forge::ca-certificates-2020.12.5-ha878542_0\n",
            "  chardet            pkgs/main::chardet-4.0.0-py36h06a4308~ --> conda-forge::chardet-4.0.0-py36h5fab9bb_1\n",
            "  conda               pkgs/main::conda-4.9.2-py36h06a4308_0 --> conda-forge::conda-4.9.2-py36h5fab9bb_0\n",
            "  conda-package-han~ pkgs/main::conda-package-handling-1.7~ --> conda-forge::conda-package-handling-1.7.2-py36he6145b8_0\n",
            "  idna                    pkgs/main::idna-2.10-pyhd3eb1b0_0 --> conda-forge::idna-2.10-pyh9f0ad1d_0\n",
            "  libffi                   pkgs/main::libffi-3.3-he6710b0_2 --> conda-forge::libffi-3.3-h58526e2_2\n",
            "  openssl              pkgs/main::openssl-1.1.1i-h27cfd23_0 --> conda-forge::openssl-1.1.1i-h7f98852_0\n",
            "  pycparser                  pkgs/main::pycparser-2.20-py_2 --> conda-forge::pycparser-2.20-pyh9f0ad1d_2\n",
            "  pyopenssl          pkgs/main::pyopenssl-20.0.1-pyhd3eb1b~ --> conda-forge::pyopenssl-20.0.1-pyhd8ed1ab_0\n",
            "  readline               pkgs/main::readline-8.1-h27cfd23_0 --> conda-forge::readline-8.0-he28a2e2_2\n",
            "  requests           pkgs/main::requests-2.25.1-pyhd3eb1b0~ --> conda-forge::requests-2.25.1-pyhd3deb0d_0\n",
            "  ruamel_yaml        pkgs/main::ruamel_yaml-0.15.87-py36h7~ --> conda-forge::ruamel_yaml-0.15.80-py36h8f6f2f9_1004\n",
            "  setuptools         pkgs/main::setuptools-52.0.0-py36h06a~ --> conda-forge::setuptools-49.6.0-py36h5fab9bb_3\n",
            "  six                    pkgs/main::six-1.15.0-pyhd3eb1b0_0 --> conda-forge::six-1.15.0-pyh9f0ad1d_0\n",
            "  urllib3            pkgs/main::urllib3-1.26.3-pyhd3eb1b0_0 --> conda-forge::urllib3-1.26.3-pyhd8ed1ab_0\n",
            "  wheel                pkgs/main::wheel-0.36.2-pyhd3eb1b0_0 --> conda-forge::wheel-0.36.2-pyhd3deb0d_0\n",
            "  yaml                     pkgs/main::yaml-0.2.5-h7b6447c_0 --> conda-forge::yaml-0.2.5-h516909a_0\n",
            "\n",
            "\n",
            "\n",
            "Downloading and Extracting Packages\n",
            "wheel-0.36.2         | 31 KB     | : 100% 1.0/1 [00:00<00:00, 12.01it/s]\n",
            "ncurses-6.2          | 985 KB    | : 100% 1.0/1 [00:00<00:00,  2.84it/s]\n",
            "requests-2.25.1      | 51 KB     | : 100% 1.0/1 [00:00<00:00, 23.30it/s]\n",
            "ca-certificates-2020 | 137 KB    | : 100% 1.0/1 [00:00<00:00, 21.14it/s]\n",
            "six-1.15.0           | 14 KB     | : 100% 1.0/1 [00:00<00:00, 28.92it/s]\n",
            "tqdm-4.56.1          | 76 KB     | : 100% 1.0/1 [00:00<00:00, 15.85it/s]\n",
            "pyopenssl-20.0.1     | 48 KB     | : 100% 1.0/1 [00:00<00:00, 25.16it/s]\n",
            "cryptography-3.3.1   | 624 KB    | : 100% 1.0/1 [00:00<00:00,  5.96it/s]\n",
            "pysocks-1.7.1        | 27 KB     | : 100% 1.0/1 [00:00<00:00, 30.08it/s]\n",
            "urllib3-1.26.3       | 99 KB     | : 100% 1.0/1 [00:00<00:00, 18.40it/s]\n",
            "sqlite-3.34.0        | 1.4 MB    | : 100% 1.0/1 [00:00<00:00,  4.38it/s]\n",
            "xz-5.2.5             | 343 KB    | : 100% 1.0/1 [00:00<00:00,  9.86it/s]\n",
            "libstdcxx-ng-9.3.0   | 4.0 MB    | : 100% 1.0/1 [00:00<00:00,  1.71it/s]\n",
            "zlib-1.2.11          | 106 KB    | : 100% 1.0/1 [00:00<00:00, 16.52it/s]\n",
            "ld_impl_linux-64-2.3 | 618 KB    | : 100% 1.0/1 [00:00<00:00,  6.79it/s]\n",
            "libgomp-9.3.0        | 376 KB    | : 100% 1.0/1 [00:00<00:00, 12.32it/s]\n",
            "libgcc-ng-9.3.0      | 7.8 MB    | : 100% 1.0/1 [00:01<00:00,  1.17s/it]\n",
            "conda-package-handli | 925 KB    | : 100% 1.0/1 [00:00<00:00,  6.52it/s]\n",
            "pip-21.0.1           | 1.1 MB    | : 100% 1.0/1 [00:00<00:00,  3.85it/s]\n",
            "readline-8.0         | 281 KB    | : 100% 1.0/1 [00:00<00:00, 11.35it/s]\n",
            "pycparser-2.20       | 94 KB     | : 100% 1.0/1 [00:00<00:00, 12.24it/s]\n",
            "pycosat-0.6.3        | 107 KB    | : 100% 1.0/1 [00:00<00:00, 14.89it/s]\n",
            "_libgcc_mutex-0.1    | 3 KB      | : 100% 1.0/1 [00:00<00:00, 30.07it/s]\n",
            "conda-4.9.2          | 3.0 MB    | : 100% 1.0/1 [00:00<00:00,  1.73it/s]\n",
            "setuptools-49.6.0    | 936 KB    | : 100% 1.0/1 [00:00<00:00,  3.77it/s]\n",
            "yaml-0.2.5           | 82 KB     | : 100% 1.0/1 [00:00<00:00, 17.99it/s]\n",
            "idna-2.10            | 52 KB     | : 100% 1.0/1 [00:00<00:00, 12.99it/s]\n",
            "chardet-4.0.0        | 219 KB    | : 100% 1.0/1 [00:00<00:00, 11.39it/s]\n",
            "openssl-1.1.1i       | 2.1 MB    | : 100% 1.0/1 [00:00<00:00,  3.07it/s]\n",
            "libffi-3.3           | 51 KB     | : 100% 1.0/1 [00:00<00:00, 29.80it/s]\n",
            "python_abi-3.6       | 4 KB      | : 100% 1.0/1 [00:00<00:00, 37.19it/s]\n",
            "ruamel_yaml-0.15.80  | 268 KB    | : 100% 1.0/1 [00:00<00:00, 12.21it/s]\n",
            "_openmp_mutex-4.5    | 22 KB     | : 100% 1.0/1 [00:00<00:00, 25.08it/s]\n",
            "cffi-1.14.4          | 225 KB    | : 100% 1.0/1 [00:00<00:00, 12.83it/s]\n",
            "brotlipy-0.7.0       | 341 KB    | : 100% 1.0/1 [00:00<00:00, 11.96it/s]\n",
            "certifi-2020.12.5    | 143 KB    | : 100% 1.0/1 [00:00<00:00, 17.56it/s]\n",
            "tk-8.6.10            | 3.2 MB    | : 100% 1.0/1 [00:00<00:00,  1.78it/s]\n",
            "Preparing transaction: - \b\b\\ \b\b| \b\bdone\n",
            "Verifying transaction: - \b\b\\ \b\b| \b\b/ \b\b- \b\b\\ \b\b| \b\b/ \b\b- \b\bdone\n",
            "Executing transaction: | \b\b/ \b\b- \b\b\\ \b\b| \b\b/ \b\b- \b\b\\ \b\b| \b\b/ \b\b- \b\b\\ \b\b| \b\b/ \b\b- \b\b\\ \b\b| \b\b/ \b\b- \b\bdone\n",
            "Collecting package metadata (current_repodata.json): - \b\b\\ \b\b| \b\b/ \b\b- \b\b\\ \b\b| \b\b/ \b\b- \b\b\\ \b\b| \b\bdone\n",
            "Solving environment: - \b\b\\ \b\b| \b\b/ \b\b- \b\b\\ \b\b| \b\bdone\n",
            "\n",
            "# All requested packages already installed.\n",
            "\n",
            "Installing RAPIDS 0.14 packages from the stable release channel\n",
            "Please standby, this will take a few minutes...\n",
            "Collecting package metadata (current_repodata.json): - \b\b\\ \b\b| \b\b/ \b\b- \b\b\\ \b\b| \b\b/ \b\b- \b\b\\ \b\b| \b\b/ \b\b- \b\b\\ \b\b| \b\b/ \b\b- \b\b\\ \b\b| \b\b/ \b\b- \b\b\\ \b\b| \b\b/ \b\b- \b\b\\ \b\b| \b\b/ \b\b- \b\b\\ \b\b| \b\b/ \b\b- \b\b\\ \b\b| \b\b/ \b\bdone\n",
            "Solving environment: \\ \b\bfailed with initial frozen solve. Retrying with flexible solve.\n",
            "Collecting package metadata (repodata.json): / \b\b- \b\b\\ \b\b| \b\b/ \b\b- \b\b\\ \b\b| \b\b/ \b\b- \b\b\\ \b\b| \b\b/ \b\b- \b\b\\ \b\b| \b\b/ \b\b- \b\b\\ \b\b| \b\b/ \b\b- \b\b\\ \b\b| \b\b/ \b\b- \b\b\\ \b\b| \b\b/ \b\b- \b\b\\ \b\b| \b\b/ \b\b- \b\b\\ \b\b| \b\b/ \b\b- \b\b\\ \b\b| \b\b/ \b\b- \b\b\\ \b\b| \b\b/ \b\b- \b\b\\ \b\b| \b\b/ \b\b- \b\b\\ \b\b| \b\b/ \b\b- \b\b\\ \b\b| \b\b/ \b\b- \b\b\\ \b\b| \b\b/ \b\b- \b\b\\ \b\b| \b\b/ \b\b- \b\b\\ \b\b| \b\b/ \b\b- \b\b\\ \b\b| \b\b/ \b\b- \b\b\\ \b\b| \b\b/ \b\b- \b\b\\ \b\b| \b\b/ \b\b- \b\b\\ \b\b| \b\b/ \b\b- \b\b\\ \b\b| \b\b/ \b\b- \b\b\\ \b\b| \b\b/ \b\b- \b\b\\ \b\b| \b\b/ \b\b- \b\b\\ \b\b| \b\b/ \b\b- \b\b\\ \b\b| \b\b/ \b\b- \b\b\\ \b\b| \b\b/ \b\b- \b\b\\ \b\b| \b\b/ \b\b- \b\b\\ \b\b| \b\b/ \b\b- \b\b\\ \b\b| \b\b/ \b\b- \b\b\\ \b\b| \b\b/ \b\b- \b\b\\ \b\b| \b\b/ \b\b- \b\b\\ \b\b| \b\b/ \b\b- \b\b\\ \b\b| \b\b/ \b\b- \b\b\\ \b\b| \b\b/ \b\b- \b\b\\ \b\b| \b\b/ \b\b- \b\b\\ \b\b| \b\b/ \b\b- \b\b\\ \b\b| \b\b/ \b\b- \b\b\\ \b\b| \b\b/ \b\b- \b\b\\ \b\b| \b\b/ \b\b- \b\b\\ \b\b| \b\b/ \b\b- \b\b\\ \b\b| \b\b/ \b\b- \b\b\\ \b\b| \b\b/ \b\b- \b\b\\ \b\b| \b\b/ \b\b- \b\b\\ \b\b| \b\b/ \b\b- \b\b\\ \b\b| \b\b/ \b\b- \b\b\\ \b\b| \b\b/ \b\b- \b\b\\ \b\b| \b\b/ \b\b- \b\b\\ \b\b| \b\b/ \b\b- \b\b\\ \b\b| \b\b/ \b\b- \b\b\\ \b\b| \b\b/ \b\b- \b\b\\ \b\b| \b\b/ \b\b- \b\b\\ \b\b| \b\b/ \b\b- \b\b\\ \b\b| \b\b/ \b\b- \b\b\\ \b\b| \b\b/ \b\b- \b\b\\ \b\b| \b\b/ \b\b- \b\b\\ \b\b| \b\b/ \b\b- \b\b\\ \b\b| \b\b/ \b\b- \b\b\\ \b\b| \b\b/ \b\b- \b\b\\ \b\b| \b\b/ \b\bdone\n",
            "Solving environment: \\ \b\b| \b\b/ \b\b- \b\b\\ \b\b| \b\b/ \b\b- \b\b\\ \b\b| \b\b/ \b\b- \b\b\\ \b\b| \b\b/ \b\b- \b\b\\ \b\b| \b\b/ \b\b- \b\b\\ \b\b| \b\b/ \b\b- \b\b\\ \b\b| \b\b/ \b\b- \b\b\\ \b\b| \b\b/ \b\b- \b\b\\ \b\b| \b\b/ \b\b- \b\b\\ \b\b| \b\b/ \b\b- \b\b\\ \b\b| \b\b/ \b\b- \b\b\\ \b\b| \b\b/ \b\b- \b\b\\ \b\b| \b\b/ \b\b- \b\b\\ \b\b| \b\b/ \b\b- \b\b\\ \b\b| \b\b/ \b\b- \b\b\\ \b\b| \b\b/ \b\b- \b\b\\ \b\b| \b\b/ \b\b- \b\b\\ \b\b| \b\b/ \b\b- \b\b\\ \b\b| \b\b/ \b\b- \b\b\\ \b\b| \b\b/ \b\b- \b\b\\ \b\b| \b\b/ \b\b- \b\b\\ \b\b| \b\b/ \b\b- \b\b\\ \b\b| \b\b/ \b\b- \b\b\\ \b\b| \b\b/ \b\b- \b\b\\ \b\b| \b\b/ \b\b- \b\b\\ \b\b| \b\b/ \b\b- \b\b\\ \b\b| \b\b/ \b\b- \b\b\\ \b\b| \b\b/ \b\b- \b\b\\ \b\b| \b\b/ \b\b- \b\b\\ \b\b| \b\b/ \b\b- \b\b\\ \b\b| \b\b/ \b\b- \b\b\\ \b\b| \b\b/ \b\b- \b\b\\ \b\b| \b\b/ \b\b- \b\b\\ \b\b| \b\b/ \b\b- \b\b\\ \b\b| \b\b/ \b\b- \b\b\\ \b\b| \b\b/ \b\b- \b\b\\ \b\b| \b\b/ \b\b- \b\b\\ \b\b| \b\b/ \b\b- \b\b\\ \b\b| \b\b/ \b\b- \b\b\\ \b\b| \b\b/ \b\b- \b\b\\ \b\b| \b\b/ \b\b- \b\b\\ \b\b| \b\b/ \b\b- \b\b\\ \b\b| \b\b/ \b\b- \b\b\\ \b\b| \b\b/ \b\b- \b\b\\ \b\b| \b\b/ \b\b- \b\b\\ \b\b| \b\b/ \b\b- \b\b\\ \b\b| \b\b/ \b\b- \b\b\\ \b\b| \b\b/ \b\b- \b\b\\ \b\b| \b\b/ \b\b- \b\b\\ \b\b| \b\b/ \b\b- \b\b\\ \b\b| \b\b/ \b\b- \b\b\\ \b\b| \b\b/ \b\b- \b\b\\ \b\b| \b\b/ \b\b- \b\b\\ \b\b| \b\b/ \b\b- \b\b\\ \b\b| \b\b/ \b\b- \b\b\\ \b\b| \b\b/ \b\b- \b\b\\ \b\b| \b\b/ \b\b- \b\b\\ \b\b| \b\b/ \b\b- \b\b\\ \b\b| \b\b/ \b\b- \b\b\\ \b\b| \b\b/ \b\b- \b\b\\ \b\b| \b\b/ \b\b- \b\b\\ \b\b| \b\b/ \b\b- \b\b\\ \b\b| \b\b/ \b\b- \b\b\\ \b\b| \b\b/ \b\b- \b\b\\ \b\b| \b\b/ \b\b- \b\b\\ \b\b| \b\b/ \b\b- \b\b\\ \b\b| \b\b/ \b\b- \b\b\\ \b\b| \b\b/ \b\b- \b\b\\ \b\b| \b\b/ \b\b- \b\b\\ \b\b| \b\b/ \b\b- \b\b\\ \b\b| \b\b/ \b\b- \b\b\\ \b\b| \b\b/ \b\b- \b\b\\ \b\b| \b\b/ \b\b- \b\b\\ \b\b| \b\b/ \b\b- \b\b\\ \b\b| \b\b/ \b\b- \b\b\\ \b\b| \b\b/ \b\b- \b\b\\ \b\b| \b\b/ \b\b- \b\b\\ \b\b| \b\b/ \b\b- \b\b\\ \b\b| \b\b/ \b\b- \b\b\\ \b\b| \b\b/ \b\b- \b\b\\ \b\b| \b\b/ \b\b- \b\b\\ \b\b| \b\b/ \b\b- \b\b\\ \b\b| \b\b/ \b\b- \b\b\\ \b\b| \b\b/ \b\b- \b\b\\ \b\b| \b\b/ \b\b- \b\b\\ \b\b| \b\b/ \b\b- \b\b\\ \b\b| \b\b/ \b\b- \b\b\\ \b\b| \b\b/ \b\b- \b\b\\ \b\b| \b\b/ \b\b- \b\b\\ \b\b| \b\b/ \b\b- \b\b\\ \b\b| \b\b/ \b\b- \b\b\\ \b\b| \b\b/ \b\b- \b\b\\ \b\b| \b\b/ \b\b- \b\b\\ \b\b| \b\b/ \b\b- \b\b\\ \b\b| \b\b/ \b\b- \b\b\\ \b\b| \b\b/ \b\b- \b\b\\ \b\b| \b\b/ \b\b- \b\b\\ \b\b| \b\b/ \b\b- \b\b\\ \b\b| \b\b/ \b\b- \b\b\\ \b\b| \b\b/ \b\b- \b\b\\ \b\b| \b\b/ \b\b- \b\b\\ \b\b| \b\b/ \b\b- \b\b\\ \b\b| \b\b/ \b\b- \b\b\\ \b\b| \b\b/ \b\b- \b\b\\ \b\b| \b\b/ \b\b- \b\b\\ \b\b| \b\b/ \b\b- \b\b\\ \b\b| \b\b/ \b\b- \b\b\\ \b\b| \b\b/ \b\b- \b\b\\ \b\b| \b\b/ \b\b- \b\b\\ \b\b| \b\b/ \b\b- \b\b\\ \b\b| \b\b/ \b\b- \b\b\\ \b\b| \b\b/ \b\b- \b\b\\ \b\b| \b\b/ \b\b- \b\b\\ \b\b| \b\b/ \b\b- \b\b\\ \b\b| \b\b/ \b\b- \b\b\\ \b\b| \b\b/ \b\b- \b\b\\ \b\b| \b\b/ \b\b- \b\b\\ \b\b| \b\b/ \b\b- \b\b\\ \b\b| \b\b/ \b\b- \b\b\\ \b\b| \b\b/ \b\b- \b\b\\ \b\b| \b\b/ \b\b- \b\b\\ \b\b| \b\b/ \b\b- \b\b\\ \b\b| \b\b/ \b\b- \b\b\\ \b\b| \b\b/ \b\b- \b\b\\ \b\b| \b\b/ \b\b- \b\b\\ \b\b| \b\b/ \b\b- \b\b\\ \b\b| \b\b/ \b\b- \b\b\\ \b\b| \b\b/ \b\b- \b\b\\ \b\b| \b\b/ \b\b- \b\b\\ \b\b| \b\b/ \b\b- \b\b\\ \b\b| \b\b/ \b\b- \b\b\\ \b\b| \b\b/ \b\b- \b\b\\ \b\b| \b\b/ \b\b- \b\b\\ \b\b| \b\b/ \b\b- \b\b\\ \b\b| \b\b/ \b\b- \b\b\\ \b\b| \b\b/ \b\b- \b\b\\ \b\b| \b\b/ \b\b- \b\b\\ \b\b| \b\b/ \b\b- \b\b\\ \b\b| \b\b/ \b\b- \b\b\\ \b\b| \b\b/ \b\b- \b\b\\ \b\b| \b\b/ \b\b- \b\b\\ \b\b| \b\b/ \b\b- \b\b\\ \b\b| \b\b/ \b\b- \b\b\\ \b\b| \b\b/ \b\b- \b\b\\ \b\b| \b\b/ \b\b- \b\b\\ \b\b| \b\b/ \b\b- \b\b\\ \b\b| \b\b/ \b\b- \b\b\\ \b\b| \b\b/ \b\b- \b\b\\ \b\b| \b\b/ \b\b- \b\b\\ \b\b| \b\b/ \b\b- \b\b\\ \b\b| \b\b/ \b\b- \b\b\\ \b\b| \b\b/ \b\b- \b\b\\ \b\b| \b\b/ \b\b- \b\b\\ \b\b| \b\b/ \b\b- \b\b\\ \b\b| \b\b/ \b\b- \b\b\\ \b\b| \b\b/ \b\b- \b\b\\ \b\b| \b\b/ \b\b- \b\b\\ \b\b| \b\b/ \b\b- \b\b\\ \b\b| \b\b/ \b\b- \b\b\\ \b\b| \b\b/ \b\b- \b\b\\ \b\b| \b\b/ \b\b- \b\b\\ \b\b| \b\b/ \b\b- \b\b\\ \b\b| \b\b/ \b\b- \b\b\\ \b\b| \b\b/ \b\b- \b\b\\ \b\b| \b\b/ \b\b- \b\bdone\n",
            "\n",
            "## Package Plan ##\n",
            "\n",
            "  environment location: /usr/local\n",
            "\n",
            "  added / updated specs:\n",
            "    - cudatoolkit=10.1\n",
            "    - cudf=0.14\n",
            "    - cugraph\n",
            "    - cuml\n",
            "    - cusignal\n",
            "    - cuspatial\n",
            "    - dask-cudf\n",
            "    - gcsfs\n",
            "    - gdal=3.0.4\n",
            "    - llvm=9.0.0\n",
            "    - pynvml\n",
            "    - python=3.6\n",
            "    - xgboost=1.1.0dev.rapidsai0.14\n",
            "\n",
            "\n",
            "The following packages will be downloaded:\n",
            "\n",
            "    package                    |            build\n",
            "    ---------------------------|-----------------\n",
            "    aiohttp-2.0.7              |           py36_0         474 KB  conda-forge\n",
            "    arrow-cpp-0.15.0           |   py36h090bef1_2        18.1 MB  conda-forge\n",
            "    async-timeout-3.0.1        |          py_1000          11 KB  conda-forge\n",
            "    blinker-1.4                |             py_1          13 KB  conda-forge\n",
            "    bokeh-2.2.3                |   py36h5fab9bb_0         7.0 MB  conda-forge\n",
            "    boost-1.70.0               |   py36h9de70de_1         337 KB  conda-forge\n",
            "    boost-cpp-1.70.0           |       h8e57a91_2        21.1 MB  conda-forge\n",
            "    brotli-1.0.9               |       h9c3ff4c_4         389 KB  conda-forge\n",
            "    bzip2-1.0.8                |       h7f98852_4         484 KB  conda-forge\n",
            "    c-ares-1.17.1              |       h36c2ea0_0         111 KB  conda-forge\n",
            "    cachetools-4.2.1           |     pyhd8ed1ab_0          13 KB  conda-forge\n",
            "    cairo-1.16.0               |    hcf35c78_1003         1.5 MB  conda-forge\n",
            "    cfitsio-3.470              |       hb418390_7         1.3 MB  conda-forge\n",
            "    click-7.1.2                |     pyh9f0ad1d_0          64 KB  conda-forge\n",
            "    cloudpickle-1.6.0          |             py_0          22 KB  conda-forge\n",
            "    contextvars-2.4            |             py_0          11 KB  conda-forge\n",
            "    cudatoolkit-10.1.243       |       h6bb024c_0       513.2 MB  nvidia\n",
            "    cudf-0.14.0                |           py36_0        25.7 MB  rapidsai/label/main\n",
            "    cudnn-7.6.0                |       cuda10.1_0       240.9 MB  nvidia\n",
            "    cugraph-0.14.0             |           py36_0         6.9 MB  rapidsai/label/main\n",
            "    cuml-0.14.0                |  cuda10.1_py36_0         9.6 MB  rapidsai/label/main\n",
            "    cupy-7.8.0                 |   py36h5c369b2_1        20.6 MB  conda-forge\n",
            "    curl-7.71.1                |       he644dc0_8         139 KB  conda-forge\n",
            "    cusignal-0.16.0            |  py38_g61980b6_0         821 KB  rapidsai/label/main\n",
            "    cuspatial-0.14.0           |           py36_0         3.6 MB  rapidsai/label/main\n",
            "    cytoolz-0.11.0             |   py36h8f6f2f9_3         393 KB  conda-forge\n",
            "    dask-2021.2.0              |     pyhd8ed1ab_0           4 KB  conda-forge\n",
            "    dask-core-2021.2.0         |     pyhd8ed1ab_0         681 KB  conda-forge\n",
            "    dask-cudf-0.14.0           |           py36_0          81 KB  rapidsai/label/main\n",
            "    distributed-2021.2.0       |   py36h5fab9bb_0         1.1 MB  conda-forge\n",
            "    dlpack-0.3                 |       he1b5a44_1          13 KB  conda-forge\n",
            "    double-conversion-3.1.5    |       he1b5a44_2          85 KB  conda-forge\n",
            "    expat-2.2.10               |       h9c3ff4c_0         164 KB  conda-forge\n",
            "    fastavro-1.3.1             |   py36h8f6f2f9_0         484 KB  conda-forge\n",
            "    fastrlock-0.5              |   py36hc4f0c31_2          31 KB  conda-forge\n",
            "    fontconfig-2.13.1          |    hba837de_1004         344 KB  conda-forge\n",
            "    freetype-2.10.4            |       h0708190_1         890 KB  conda-forge\n",
            "    freexl-1.0.5               |    h516909a_1002          46 KB  conda-forge\n",
            "    fsspec-0.8.5               |     pyhd8ed1ab_0          69 KB  conda-forge\n",
            "    gcsfs-0.7.1                |             py_0          22 KB  conda-forge\n",
            "    gdal-3.0.4                 |  py36hd60729c_10         1.3 MB  conda-forge\n",
            "    geos-3.8.1                 |       he1b5a44_0         1.0 MB  conda-forge\n",
            "    geotiff-1.6.0              |       h05acad5_0         280 KB  conda-forge\n",
            "    gettext-0.19.8.1           |    h0b5b191_1005         3.6 MB  conda-forge\n",
            "    gflags-2.2.2               |    he1b5a44_1004         114 KB  conda-forge\n",
            "    giflib-5.2.1               |       h36c2ea0_2          77 KB  conda-forge\n",
            "    glib-2.66.6                |       h9c3ff4c_3         434 KB  conda-forge\n",
            "    glib-tools-2.66.6          |       h9c3ff4c_3          85 KB  conda-forge\n",
            "    glog-0.4.0                 |       h49b9bf7_3         104 KB  conda-forge\n",
            "    google-auth-1.21.3         |             py_0          56 KB  conda-forge\n",
            "    google-auth-oauthlib-0.4.2 |     pyhd8ed1ab_0          19 KB  conda-forge\n",
            "    grpc-cpp-1.23.0            |       h18db393_0         4.5 MB  conda-forge\n",
            "    hdf4-4.2.13                |    h10796ff_1004         951 KB  conda-forge\n",
            "    hdf5-1.10.6                |nompi_h6a2412b_1114         3.1 MB  conda-forge\n",
            "    heapdict-1.0.1             |             py_0           7 KB  conda-forge\n",
            "    icu-64.2                   |       he1b5a44_1        12.6 MB  conda-forge\n",
            "    immutables-0.15            |   py36h8f6f2f9_0          70 KB  conda-forge\n",
            "    jinja2-2.11.3              |     pyh44b312d_0          93 KB  conda-forge\n",
            "    joblib-1.0.1               |     pyhd8ed1ab_0         206 KB  conda-forge\n",
            "    jpeg-9d                    |       h36c2ea0_0         264 KB  conda-forge\n",
            "    json-c-0.13.1              |    hbfbb72e_1002          76 KB  conda-forge\n",
            "    kealib-1.4.14              |       he4dc956_1         186 KB  conda-forge\n",
            "    krb5-1.17.2                |       h926e7f8_0         1.4 MB  conda-forge\n",
            "    lcms2-2.11                 |       hcbb858e_1         434 KB  conda-forge\n",
            "    libblas-3.9.0              |       8_openblas          11 KB  conda-forge\n",
            "    libcblas-3.9.0             |       8_openblas          11 KB  conda-forge\n",
            "    libcudf-0.14.0             |       cuda10.1_0       101.5 MB  rapidsai/label/main\n",
            "    libcugraph-0.14.0          |       cuda10.1_0        14.3 MB  rapidsai/label/main\n",
            "    libcuml-0.14.0             |       cuda10.1_0        42.4 MB  rapidsai/label/main\n",
            "    libcumlprims-0.14.1        |       cuda10.1_0         6.0 MB  nvidia\n",
            "    libcurl-7.71.1             |       hcdd3856_8         312 KB  conda-forge\n",
            "    libcuspatial-0.14.0        |       cuda10.1_0         3.4 MB  rapidsai/label/main\n",
            "    libdap4-3.20.6             |       hd7c4107_1        11.4 MB  conda-forge\n",
            "    libedit-3.1.20191231       |       he28a2e2_2         121 KB  conda-forge\n",
            "    libev-4.33                 |       h516909a_1         104 KB  conda-forge\n",
            "    libevent-2.1.10            |       hcdb4288_3         1.1 MB  conda-forge\n",
            "    libgdal-3.0.4              |      he6a97d6_10        18.8 MB  conda-forge\n",
            "    libgfortran-ng-9.3.0       |      hff62375_18          22 KB  conda-forge\n",
            "    libgfortran5-9.3.0         |      hff62375_18         2.0 MB  conda-forge\n",
            "    libglib-2.66.6             |       h1f3bc88_3         3.0 MB  conda-forge\n",
            "    libhwloc-2.1.0             |       h3c4fd83_0         2.7 MB  conda-forge\n",
            "    libiconv-1.16              |       h516909a_0         1.4 MB  conda-forge\n",
            "    libkml-1.3.0               |    h4fcabce_1010         643 KB  conda-forge\n",
            "    liblapack-3.9.0            |       8_openblas          11 KB  conda-forge\n",
            "    libllvm8-8.0.1             |       hc9558a2_0        23.2 MB  conda-forge\n",
            "    libllvm9-9.0.0             |       hc9558a2_3        25.1 MB  conda-forge\n",
            "    libnetcdf-4.7.4            |nompi_h56d31a8_107         1.3 MB  conda-forge\n",
            "    libnghttp2-1.43.0          |       h812cca2_0         808 KB  conda-forge\n",
            "    libnvstrings-0.14.0        |       cuda10.1_0        30.1 MB  rapidsai/label/main\n",
            "    libopenblas-0.3.12         |pthreads_h4812303_1         8.9 MB  conda-forge\n",
            "    libpng-1.6.37              |       h21135ba_2         306 KB  conda-forge\n",
            "    libpq-12.3                 |       h255efa7_3         2.6 MB  conda-forge\n",
            "    libprotobuf-3.8.0          |       h8b12597_0         4.7 MB  conda-forge\n",
            "    librmm-0.14.0              |       cuda10.1_0         189 KB  rapidsai/label/main\n",
            "    libspatialite-4.3.0a       |    h2482549_1038         3.1 MB  conda-forge\n",
            "    libssh2-1.9.0              |       hab1572f_5         225 KB  conda-forge\n",
            "    libtiff-4.1.0              |       hc3755c2_3         568 KB  conda-forge\n",
            "    libuuid-2.32.1             |    h7f98852_1000          28 KB  conda-forge\n",
            "    libwebp-base-1.2.0         |       h7f98852_0         808 KB  conda-forge\n",
            "    libxcb-1.13                |    h7f98852_1003         395 KB  conda-forge\n",
            "    libxgboost-1.1.0dev.rapidsai0.14|       cuda10.1_0        31.1 MB  rapidsai/label/main\n",
            "    libxml2-2.9.10             |       hee79883_0         1.3 MB  conda-forge\n",
            "    llvm-9.0.0                 |                3          47 KB  conda-forge\n",
            "    llvmlite-0.32.1            |   py36hfa65bc7_0         328 KB  conda-forge\n",
            "    locket-0.2.0               |             py_2           6 KB  conda-forge\n",
            "    lz4-c-1.8.3                |    he1b5a44_1001         187 KB  conda-forge\n",
            "    markupsafe-1.1.1           |   py36h8f6f2f9_3          27 KB  conda-forge\n",
            "    msgpack-python-1.0.2       |   py36h605e78d_1          91 KB  conda-forge\n",
            "    multidict-5.1.0            |   py36h8f6f2f9_1          67 KB  conda-forge\n",
            "    nccl-2.5.7.1               |       h51cf6c1_0        98.4 MB  conda-forge\n",
            "    numba-0.49.1               |   py36h0573a6f_0         3.1 MB\n",
            "    numpy-1.19.5               |   py36h2aa4a07_1         5.3 MB  conda-forge\n",
            "    nvstrings-0.14.0           |           py36_0         129 KB  rapidsai/label/main\n",
            "    oauthlib-3.0.1             |             py_0          82 KB  conda-forge\n",
            "    olefile-0.46               |     pyh9f0ad1d_1          32 KB  conda-forge\n",
            "    openjpeg-2.3.1             |       hf7af979_3         395 KB  conda-forge\n",
            "    packaging-20.9             |     pyh44b312d_0          35 KB  conda-forge\n",
            "    pandas-0.25.3              |   py36hb3f55d8_0        11.4 MB  conda-forge\n",
            "    parquet-cpp-1.5.1          |                2           3 KB  conda-forge\n",
            "    partd-1.1.0                |             py_0          17 KB  conda-forge\n",
            "    pcre-8.44                  |       he1b5a44_0         261 KB  conda-forge\n",
            "    pillow-8.1.0               |   py36h4f9996e_1         675 KB  conda-forge\n",
            "    pixman-0.38.0              |    h516909a_1003         594 KB  conda-forge\n",
            "    poppler-0.87.0             |       h4190859_1        12.9 MB  conda-forge\n",
            "    poppler-data-0.4.10        |                0         3.8 MB  conda-forge\n",
            "    postgresql-12.3            |       hc2f5b80_3         5.0 MB  conda-forge\n",
            "    proj-7.0.0                 |       h966b41f_5         3.7 MB  conda-forge\n",
            "    psutil-5.8.0               |   py36h8f6f2f9_1         342 KB  conda-forge\n",
            "    pthread-stubs-0.4          |    h36c2ea0_1001           5 KB  conda-forge\n",
            "    py-xgboost-1.1.0dev.rapidsai0.14|   cuda10.1py36_0         106 KB  rapidsai/label/main\n",
            "    pyarrow-0.15.0             |   py36h8b68381_1         3.2 MB  conda-forge\n",
            "    pyasn1-0.4.8               |             py_0          53 KB  conda-forge\n",
            "    pyasn1-modules-0.2.7       |             py_0          60 KB  conda-forge\n",
            "    pyjwt-2.0.1                |     pyhd8ed1ab_0          17 KB  conda-forge\n",
            "    pynvml-8.0.4               |             py_1          31 KB  conda-forge\n",
            "    pyparsing-2.4.7            |     pyh9f0ad1d_0          60 KB  conda-forge\n",
            "    python-3.6.12              |hffdb5ce_0_cpython        38.4 MB  conda-forge\n",
            "    python-dateutil-2.8.1      |             py_0         220 KB  conda-forge\n",
            "    pytz-2021.1                |     pyhd8ed1ab_0         239 KB  conda-forge\n",
            "    pyyaml-5.4.1               |   py36h8f6f2f9_0         190 KB  conda-forge\n",
            "    re2-2020.04.01             |       he1b5a44_0         438 KB  conda-forge\n",
            "    requests-oauthlib-1.3.0    |     pyh9f0ad1d_0          21 KB  conda-forge\n",
            "    rmm-0.14.0                 |           py36_0         684 KB  rapidsai/label/main\n",
            "    rsa-4.7                    |     pyhd3deb0d_0          27 KB  conda-forge\n",
            "    scikit-learn-0.24.1        |   py36he4fde30_0         7.5 MB  conda-forge\n",
            "    scipy-1.5.3                |   py36h9e8f40b_0        19.1 MB  conda-forge\n",
            "    snappy-1.1.8               |       he1b5a44_3          32 KB  conda-forge\n",
            "    sortedcontainers-2.3.0     |     pyhd8ed1ab_0          26 KB  conda-forge\n",
            "    spdlog-1.8.2               |       h4bd325d_1         351 KB  conda-forge\n",
            "    tbb-2018.0.5               |       h2d50403_0         1.1 MB  conda-forge\n",
            "    tblib-1.6.0                |             py_0          14 KB  conda-forge\n",
            "    threadpoolctl-2.1.0        |     pyh5ca1d4c_0          15 KB  conda-forge\n",
            "    thrift-cpp-0.12.0          |    hf3afdfd_1004         2.4 MB  conda-forge\n",
            "    tiledb-1.7.7               |       hcde45ca_0         2.0 MB  conda-forge\n",
            "    toolz-0.11.1               |             py_0          46 KB  conda-forge\n",
            "    tornado-6.1                |   py36h8f6f2f9_1         643 KB  conda-forge\n",
            "    typing_extensions-3.7.4.3  |             py_0          25 KB  conda-forge\n",
            "    tzcode-2021a               |       h7f98852_0         296 KB  conda-forge\n",
            "    ucx-1.8.0+gf6ec8d4         |      cuda10.1_20         8.9 MB  rapidsai/label/main\n",
            "    ucx-py-0.14.0+gf6ec8d4     |           py36_0         137 KB  rapidsai/label/main\n",
            "    uriparser-0.9.3            |       he1b5a44_1          49 KB  conda-forge\n",
            "    xerces-c-3.2.2             |    h8412b87_1004         1.7 MB  conda-forge\n",
            "    xgboost-1.1.0dev.rapidsai0.14|   cuda10.1py36_0          12 KB  rapidsai/label/main\n",
            "    xorg-kbproto-1.0.7         |    h7f98852_1002          27 KB  conda-forge\n",
            "    xorg-libice-1.0.10         |       h516909a_0          57 KB  conda-forge\n",
            "    xorg-libsm-1.2.3           |    h84519dc_1000          25 KB  conda-forge\n",
            "    xorg-libx11-1.6.12         |       h516909a_0         917 KB  conda-forge\n",
            "    xorg-libxau-1.0.9          |       h7f98852_0          13 KB  conda-forge\n",
            "    xorg-libxdmcp-1.1.3        |       h7f98852_0          19 KB  conda-forge\n",
            "    xorg-libxext-1.3.4         |       h516909a_0          51 KB  conda-forge\n",
            "    xorg-libxrender-0.9.10     |    h516909a_1002          31 KB  conda-forge\n",
            "    xorg-renderproto-0.11.1    |    h14c3975_1002           8 KB  conda-forge\n",
            "    xorg-xextproto-7.3.0       |    h7f98852_1002          28 KB  conda-forge\n",
            "    xorg-xproto-7.0.31         |    h7f98852_1007          73 KB  conda-forge\n",
            "    yarl-0.10.0                |           py36_0         163 KB  conda-forge\n",
            "    zict-2.0.0                 |             py_0          10 KB  conda-forge\n",
            "    zstd-1.4.4                 |       h3b9ef0a_2         982 KB  conda-forge\n",
            "    ------------------------------------------------------------\n",
            "                                           Total:        1.45 GB\n",
            "\n",
            "The following NEW packages will be INSTALLED:\n",
            "\n",
            "  aiohttp            conda-forge/linux-64::aiohttp-2.0.7-py36_0\n",
            "  arrow-cpp          conda-forge/linux-64::arrow-cpp-0.15.0-py36h090bef1_2\n",
            "  async-timeout      conda-forge/noarch::async-timeout-3.0.1-py_1000\n",
            "  blinker            conda-forge/noarch::blinker-1.4-py_1\n",
            "  bokeh              conda-forge/linux-64::bokeh-2.2.3-py36h5fab9bb_0\n",
            "  boost              conda-forge/linux-64::boost-1.70.0-py36h9de70de_1\n",
            "  boost-cpp          conda-forge/linux-64::boost-cpp-1.70.0-h8e57a91_2\n",
            "  brotli             conda-forge/linux-64::brotli-1.0.9-h9c3ff4c_4\n",
            "  bzip2              conda-forge/linux-64::bzip2-1.0.8-h7f98852_4\n",
            "  c-ares             conda-forge/linux-64::c-ares-1.17.1-h36c2ea0_0\n",
            "  cachetools         conda-forge/noarch::cachetools-4.2.1-pyhd8ed1ab_0\n",
            "  cairo              conda-forge/linux-64::cairo-1.16.0-hcf35c78_1003\n",
            "  cfitsio            conda-forge/linux-64::cfitsio-3.470-hb418390_7\n",
            "  click              conda-forge/noarch::click-7.1.2-pyh9f0ad1d_0\n",
            "  cloudpickle        conda-forge/noarch::cloudpickle-1.6.0-py_0\n",
            "  contextvars        conda-forge/noarch::contextvars-2.4-py_0\n",
            "  cudatoolkit        nvidia/linux-64::cudatoolkit-10.1.243-h6bb024c_0\n",
            "  cudf               rapidsai/label/main/linux-64::cudf-0.14.0-py36_0\n",
            "  cudnn              nvidia/linux-64::cudnn-7.6.0-cuda10.1_0\n",
            "  cugraph            rapidsai/label/main/linux-64::cugraph-0.14.0-py36_0\n",
            "  cuml               rapidsai/label/main/linux-64::cuml-0.14.0-cuda10.1_py36_0\n",
            "  cupy               conda-forge/linux-64::cupy-7.8.0-py36h5c369b2_1\n",
            "  curl               conda-forge/linux-64::curl-7.71.1-he644dc0_8\n",
            "  cusignal           rapidsai/label/main/noarch::cusignal-0.16.0-py38_g61980b6_0\n",
            "  cuspatial          rapidsai/label/main/linux-64::cuspatial-0.14.0-py36_0\n",
            "  cytoolz            conda-forge/linux-64::cytoolz-0.11.0-py36h8f6f2f9_3\n",
            "  dask               conda-forge/noarch::dask-2021.2.0-pyhd8ed1ab_0\n",
            "  dask-core          conda-forge/noarch::dask-core-2021.2.0-pyhd8ed1ab_0\n",
            "  dask-cudf          rapidsai/label/main/linux-64::dask-cudf-0.14.0-py36_0\n",
            "  distributed        conda-forge/linux-64::distributed-2021.2.0-py36h5fab9bb_0\n",
            "  dlpack             conda-forge/linux-64::dlpack-0.3-he1b5a44_1\n",
            "  double-conversion  conda-forge/linux-64::double-conversion-3.1.5-he1b5a44_2\n",
            "  expat              conda-forge/linux-64::expat-2.2.10-h9c3ff4c_0\n",
            "  fastavro           conda-forge/linux-64::fastavro-1.3.1-py36h8f6f2f9_0\n",
            "  fastrlock          conda-forge/linux-64::fastrlock-0.5-py36hc4f0c31_2\n",
            "  fontconfig         conda-forge/linux-64::fontconfig-2.13.1-hba837de_1004\n",
            "  freetype           conda-forge/linux-64::freetype-2.10.4-h0708190_1\n",
            "  freexl             conda-forge/linux-64::freexl-1.0.5-h516909a_1002\n",
            "  fsspec             conda-forge/noarch::fsspec-0.8.5-pyhd8ed1ab_0\n",
            "  gcsfs              conda-forge/noarch::gcsfs-0.7.1-py_0\n",
            "  gdal               conda-forge/linux-64::gdal-3.0.4-py36hd60729c_10\n",
            "  geos               conda-forge/linux-64::geos-3.8.1-he1b5a44_0\n",
            "  geotiff            conda-forge/linux-64::geotiff-1.6.0-h05acad5_0\n",
            "  gettext            conda-forge/linux-64::gettext-0.19.8.1-h0b5b191_1005\n",
            "  gflags             conda-forge/linux-64::gflags-2.2.2-he1b5a44_1004\n",
            "  giflib             conda-forge/linux-64::giflib-5.2.1-h36c2ea0_2\n",
            "  glib               conda-forge/linux-64::glib-2.66.6-h9c3ff4c_3\n",
            "  glib-tools         conda-forge/linux-64::glib-tools-2.66.6-h9c3ff4c_3\n",
            "  glog               conda-forge/linux-64::glog-0.4.0-h49b9bf7_3\n",
            "  google-auth        conda-forge/noarch::google-auth-1.21.3-py_0\n",
            "  google-auth-oauth~ conda-forge/noarch::google-auth-oauthlib-0.4.2-pyhd8ed1ab_0\n",
            "  grpc-cpp           conda-forge/linux-64::grpc-cpp-1.23.0-h18db393_0\n",
            "  hdf4               conda-forge/linux-64::hdf4-4.2.13-h10796ff_1004\n",
            "  hdf5               conda-forge/linux-64::hdf5-1.10.6-nompi_h6a2412b_1114\n",
            "  heapdict           conda-forge/noarch::heapdict-1.0.1-py_0\n",
            "  icu                conda-forge/linux-64::icu-64.2-he1b5a44_1\n",
            "  immutables         conda-forge/linux-64::immutables-0.15-py36h8f6f2f9_0\n",
            "  jinja2             conda-forge/noarch::jinja2-2.11.3-pyh44b312d_0\n",
            "  joblib             conda-forge/noarch::joblib-1.0.1-pyhd8ed1ab_0\n",
            "  jpeg               conda-forge/linux-64::jpeg-9d-h36c2ea0_0\n",
            "  json-c             conda-forge/linux-64::json-c-0.13.1-hbfbb72e_1002\n",
            "  kealib             conda-forge/linux-64::kealib-1.4.14-he4dc956_1\n",
            "  krb5               conda-forge/linux-64::krb5-1.17.2-h926e7f8_0\n",
            "  lcms2              conda-forge/linux-64::lcms2-2.11-hcbb858e_1\n",
            "  libblas            conda-forge/linux-64::libblas-3.9.0-8_openblas\n",
            "  libcblas           conda-forge/linux-64::libcblas-3.9.0-8_openblas\n",
            "  libcudf            rapidsai/label/main/linux-64::libcudf-0.14.0-cuda10.1_0\n",
            "  libcugraph         rapidsai/label/main/linux-64::libcugraph-0.14.0-cuda10.1_0\n",
            "  libcuml            rapidsai/label/main/linux-64::libcuml-0.14.0-cuda10.1_0\n",
            "  libcumlprims       nvidia/linux-64::libcumlprims-0.14.1-cuda10.1_0\n",
            "  libcurl            conda-forge/linux-64::libcurl-7.71.1-hcdd3856_8\n",
            "  libcuspatial       rapidsai/label/main/linux-64::libcuspatial-0.14.0-cuda10.1_0\n",
            "  libdap4            conda-forge/linux-64::libdap4-3.20.6-hd7c4107_1\n",
            "  libedit            conda-forge/linux-64::libedit-3.1.20191231-he28a2e2_2\n",
            "  libev              conda-forge/linux-64::libev-4.33-h516909a_1\n",
            "  libevent           conda-forge/linux-64::libevent-2.1.10-hcdb4288_3\n",
            "  libgdal            conda-forge/linux-64::libgdal-3.0.4-he6a97d6_10\n",
            "  libgfortran-ng     conda-forge/linux-64::libgfortran-ng-9.3.0-hff62375_18\n",
            "  libgfortran5       conda-forge/linux-64::libgfortran5-9.3.0-hff62375_18\n",
            "  libglib            conda-forge/linux-64::libglib-2.66.6-h1f3bc88_3\n",
            "  libhwloc           conda-forge/linux-64::libhwloc-2.1.0-h3c4fd83_0\n",
            "  libiconv           conda-forge/linux-64::libiconv-1.16-h516909a_0\n",
            "  libkml             conda-forge/linux-64::libkml-1.3.0-h4fcabce_1010\n",
            "  liblapack          conda-forge/linux-64::liblapack-3.9.0-8_openblas\n",
            "  libllvm8           conda-forge/linux-64::libllvm8-8.0.1-hc9558a2_0\n",
            "  libllvm9           conda-forge/linux-64::libllvm9-9.0.0-hc9558a2_3\n",
            "  libnetcdf          conda-forge/linux-64::libnetcdf-4.7.4-nompi_h56d31a8_107\n",
            "  libnghttp2         conda-forge/linux-64::libnghttp2-1.43.0-h812cca2_0\n",
            "  libnvstrings       rapidsai/label/main/linux-64::libnvstrings-0.14.0-cuda10.1_0\n",
            "  libopenblas        conda-forge/linux-64::libopenblas-0.3.12-pthreads_h4812303_1\n",
            "  libpng             conda-forge/linux-64::libpng-1.6.37-h21135ba_2\n",
            "  libpq              conda-forge/linux-64::libpq-12.3-h255efa7_3\n",
            "  libprotobuf        conda-forge/linux-64::libprotobuf-3.8.0-h8b12597_0\n",
            "  librmm             rapidsai/label/main/linux-64::librmm-0.14.0-cuda10.1_0\n",
            "  libspatialite      conda-forge/linux-64::libspatialite-4.3.0a-h2482549_1038\n",
            "  libssh2            conda-forge/linux-64::libssh2-1.9.0-hab1572f_5\n",
            "  libtiff            conda-forge/linux-64::libtiff-4.1.0-hc3755c2_3\n",
            "  libuuid            conda-forge/linux-64::libuuid-2.32.1-h7f98852_1000\n",
            "  libwebp-base       conda-forge/linux-64::libwebp-base-1.2.0-h7f98852_0\n",
            "  libxcb             conda-forge/linux-64::libxcb-1.13-h7f98852_1003\n",
            "  libxgboost         rapidsai/label/main/linux-64::libxgboost-1.1.0dev.rapidsai0.14-cuda10.1_0\n",
            "  libxml2            conda-forge/linux-64::libxml2-2.9.10-hee79883_0\n",
            "  llvm               conda-forge/linux-64::llvm-9.0.0-3\n",
            "  llvmlite           conda-forge/linux-64::llvmlite-0.32.1-py36hfa65bc7_0\n",
            "  locket             conda-forge/noarch::locket-0.2.0-py_2\n",
            "  lz4-c              conda-forge/linux-64::lz4-c-1.8.3-he1b5a44_1001\n",
            "  markupsafe         conda-forge/linux-64::markupsafe-1.1.1-py36h8f6f2f9_3\n",
            "  msgpack-python     conda-forge/linux-64::msgpack-python-1.0.2-py36h605e78d_1\n",
            "  multidict          conda-forge/linux-64::multidict-5.1.0-py36h8f6f2f9_1\n",
            "  nccl               conda-forge/linux-64::nccl-2.5.7.1-h51cf6c1_0\n",
            "  numba              pkgs/main/linux-64::numba-0.49.1-py36h0573a6f_0\n",
            "  numpy              conda-forge/linux-64::numpy-1.19.5-py36h2aa4a07_1\n",
            "  nvstrings          rapidsai/label/main/linux-64::nvstrings-0.14.0-py36_0\n",
            "  oauthlib           conda-forge/noarch::oauthlib-3.0.1-py_0\n",
            "  olefile            conda-forge/noarch::olefile-0.46-pyh9f0ad1d_1\n",
            "  openjpeg           conda-forge/linux-64::openjpeg-2.3.1-hf7af979_3\n",
            "  packaging          conda-forge/noarch::packaging-20.9-pyh44b312d_0\n",
            "  pandas             conda-forge/linux-64::pandas-0.25.3-py36hb3f55d8_0\n",
            "  parquet-cpp        conda-forge/noarch::parquet-cpp-1.5.1-2\n",
            "  partd              conda-forge/noarch::partd-1.1.0-py_0\n",
            "  pcre               conda-forge/linux-64::pcre-8.44-he1b5a44_0\n",
            "  pillow             conda-forge/linux-64::pillow-8.1.0-py36h4f9996e_1\n",
            "  pixman             conda-forge/linux-64::pixman-0.38.0-h516909a_1003\n",
            "  poppler            conda-forge/linux-64::poppler-0.87.0-h4190859_1\n",
            "  poppler-data       conda-forge/noarch::poppler-data-0.4.10-0\n",
            "  postgresql         conda-forge/linux-64::postgresql-12.3-hc2f5b80_3\n",
            "  proj               conda-forge/linux-64::proj-7.0.0-h966b41f_5\n",
            "  psutil             conda-forge/linux-64::psutil-5.8.0-py36h8f6f2f9_1\n",
            "  pthread-stubs      conda-forge/linux-64::pthread-stubs-0.4-h36c2ea0_1001\n",
            "  py-xgboost         rapidsai/label/main/linux-64::py-xgboost-1.1.0dev.rapidsai0.14-cuda10.1py36_0\n",
            "  pyarrow            conda-forge/linux-64::pyarrow-0.15.0-py36h8b68381_1\n",
            "  pyasn1             conda-forge/noarch::pyasn1-0.4.8-py_0\n",
            "  pyasn1-modules     conda-forge/noarch::pyasn1-modules-0.2.7-py_0\n",
            "  pyjwt              conda-forge/noarch::pyjwt-2.0.1-pyhd8ed1ab_0\n",
            "  pynvml             conda-forge/noarch::pynvml-8.0.4-py_1\n",
            "  pyparsing          conda-forge/noarch::pyparsing-2.4.7-pyh9f0ad1d_0\n",
            "  python-dateutil    conda-forge/noarch::python-dateutil-2.8.1-py_0\n",
            "  pytz               conda-forge/noarch::pytz-2021.1-pyhd8ed1ab_0\n",
            "  pyyaml             conda-forge/linux-64::pyyaml-5.4.1-py36h8f6f2f9_0\n",
            "  re2                conda-forge/linux-64::re2-2020.04.01-he1b5a44_0\n",
            "  requests-oauthlib  conda-forge/noarch::requests-oauthlib-1.3.0-pyh9f0ad1d_0\n",
            "  rmm                rapidsai/label/main/linux-64::rmm-0.14.0-py36_0\n",
            "  rsa                conda-forge/noarch::rsa-4.7-pyhd3deb0d_0\n",
            "  scikit-learn       conda-forge/linux-64::scikit-learn-0.24.1-py36he4fde30_0\n",
            "  scipy              conda-forge/linux-64::scipy-1.5.3-py36h9e8f40b_0\n",
            "  snappy             conda-forge/linux-64::snappy-1.1.8-he1b5a44_3\n",
            "  sortedcontainers   conda-forge/noarch::sortedcontainers-2.3.0-pyhd8ed1ab_0\n",
            "  spdlog             conda-forge/linux-64::spdlog-1.8.2-h4bd325d_1\n",
            "  tbb                conda-forge/linux-64::tbb-2018.0.5-h2d50403_0\n",
            "  tblib              conda-forge/noarch::tblib-1.6.0-py_0\n",
            "  threadpoolctl      conda-forge/noarch::threadpoolctl-2.1.0-pyh5ca1d4c_0\n",
            "  thrift-cpp         conda-forge/linux-64::thrift-cpp-0.12.0-hf3afdfd_1004\n",
            "  tiledb             conda-forge/linux-64::tiledb-1.7.7-hcde45ca_0\n",
            "  toolz              conda-forge/noarch::toolz-0.11.1-py_0\n",
            "  tornado            conda-forge/linux-64::tornado-6.1-py36h8f6f2f9_1\n",
            "  typing_extensions  conda-forge/noarch::typing_extensions-3.7.4.3-py_0\n",
            "  tzcode             conda-forge/linux-64::tzcode-2021a-h7f98852_0\n",
            "  ucx                rapidsai/label/main/linux-64::ucx-1.8.0+gf6ec8d4-cuda10.1_20\n",
            "  ucx-py             rapidsai/label/main/linux-64::ucx-py-0.14.0+gf6ec8d4-py36_0\n",
            "  uriparser          conda-forge/linux-64::uriparser-0.9.3-he1b5a44_1\n",
            "  xerces-c           conda-forge/linux-64::xerces-c-3.2.2-h8412b87_1004\n",
            "  xgboost            rapidsai/label/main/linux-64::xgboost-1.1.0dev.rapidsai0.14-cuda10.1py36_0\n",
            "  xorg-kbproto       conda-forge/linux-64::xorg-kbproto-1.0.7-h7f98852_1002\n",
            "  xorg-libice        conda-forge/linux-64::xorg-libice-1.0.10-h516909a_0\n",
            "  xorg-libsm         conda-forge/linux-64::xorg-libsm-1.2.3-h84519dc_1000\n",
            "  xorg-libx11        conda-forge/linux-64::xorg-libx11-1.6.12-h516909a_0\n",
            "  xorg-libxau        conda-forge/linux-64::xorg-libxau-1.0.9-h7f98852_0\n",
            "  xorg-libxdmcp      conda-forge/linux-64::xorg-libxdmcp-1.1.3-h7f98852_0\n",
            "  xorg-libxext       conda-forge/linux-64::xorg-libxext-1.3.4-h516909a_0\n",
            "  xorg-libxrender    conda-forge/linux-64::xorg-libxrender-0.9.10-h516909a_1002\n",
            "  xorg-renderproto   conda-forge/linux-64::xorg-renderproto-0.11.1-h14c3975_1002\n",
            "  xorg-xextproto     conda-forge/linux-64::xorg-xextproto-7.3.0-h7f98852_1002\n",
            "  xorg-xproto        conda-forge/linux-64::xorg-xproto-7.0.31-h7f98852_1007\n",
            "  yarl               conda-forge/linux-64::yarl-0.10.0-py36_0\n",
            "  zict               conda-forge/noarch::zict-2.0.0-py_0\n",
            "  zstd               conda-forge/linux-64::zstd-1.4.4-h3b9ef0a_2\n",
            "\n",
            "The following packages will be SUPERSEDED by a higher-priority channel:\n",
            "\n",
            "  python                pkgs/main::python-3.6.12-hcff3b4d_2 --> conda-forge::python-3.6.12-hffdb5ce_0_cpython\n",
            "\n",
            "\n",
            "\n",
            "Downloading and Extracting Packages\n",
            "glog-0.4.0           | 104 KB    | : 100% 1.0/1 [00:00<00:00, 15.38it/s]\n",
            "async-timeout-3.0.1  | 11 KB     | : 100% 1.0/1 [00:00<00:00, 26.30it/s]\n",
            "brotli-1.0.9         | 389 KB    | : 100% 1.0/1 [00:00<00:00, 12.12it/s]\n",
            "cfitsio-3.470        | 1.3 MB    | : 100% 1.0/1 [00:00<00:00,  3.80it/s]\n",
            "pandas-0.25.3        | 11.4 MB   | : 100% 1.0/1 [00:02<00:00,  2.05s/it]               \n",
            "liblapack-3.9.0      | 11 KB     | : 100% 1.0/1 [00:00<00:00, 33.11it/s]\n",
            "zstd-1.4.4           | 982 KB    | : 100% 1.0/1 [00:00<00:00,  5.49it/s]\n",
            "libcumlprims-0.14.1  | 6.0 MB    | : 100% 1.0/1 [00:01<00:00,  1.60s/it]\n",
            "xgboost-1.1.0dev.rap | 12 KB     | : 100% 1.0/1 [00:00<00:00,  6.29it/s]\n",
            "cairo-1.16.0         | 1.5 MB    | : 100% 1.0/1 [00:00<00:00,  3.22it/s]\n",
            "cachetools-4.2.1     | 13 KB     | : 100% 1.0/1 [00:00<00:00, 19.61it/s]\n",
            "libspatialite-4.3.0a | 3.1 MB    | : 100% 1.0/1 [00:00<00:00,  1.64it/s]\n",
            "libkml-1.3.0         | 643 KB    | : 100% 1.0/1 [00:00<00:00,  6.15it/s]\n",
            "icu-64.2             | 12.6 MB   | : 100% 1.0/1 [00:01<00:00,  1.85s/it]\n",
            "dask-2021.2.0        | 4 KB      | : 100% 1.0/1 [00:00<00:00, 34.31it/s]\n",
            "cugraph-0.14.0       | 6.9 MB    | : 100% 1.0/1 [00:01<00:00,  1.29s/it]               \n",
            "giflib-5.2.1         | 77 KB     | : 100% 1.0/1 [00:00<00:00,  8.92it/s]\n",
            "libcuml-0.14.0       | 42.4 MB   | : 100% 1.0/1 [00:08<00:00,  8.27s/it]               \n",
            "libblas-3.9.0        | 11 KB     | : 100% 1.0/1 [00:00<00:00, 30.88it/s]\n",
            "fsspec-0.8.5         | 69 KB     | : 100% 1.0/1 [00:00<00:00, 22.35it/s]\n",
            "libevent-2.1.10      | 1.1 MB    | : 100% 1.0/1 [00:00<00:00,  3.88it/s]\n",
            "lz4-c-1.8.3          | 187 KB    | : 100% 1.0/1 [00:00<00:00, 12.75it/s]\n",
            "libcudf-0.14.0       | 101.5 MB  | : 100% 1.0/1 [00:23<00:00, 23.48s/it]               \n",
            "dlpack-0.3           | 13 KB     | : 100% 1.0/1 [00:00<00:00, 25.26it/s]\n",
            "kealib-1.4.14        | 186 KB    | : 100% 1.0/1 [00:00<00:00, 14.98it/s]\n",
            "pyasn1-modules-0.2.7 | 60 KB     | : 100% 1.0/1 [00:00<00:00, 17.66it/s]\n",
            "libllvm9-9.0.0       | 25.1 MB   | : 100% 1.0/1 [00:04<00:00,  4.27s/it]\n",
            "c-ares-1.17.1        | 111 KB    | : 100% 1.0/1 [00:00<00:00, 21.89it/s]\n",
            "boost-cpp-1.70.0     | 21.1 MB   | : 100% 1.0/1 [00:06<00:00,  6.25s/it]\n",
            "libnetcdf-4.7.4      | 1.3 MB    | : 100% 1.0/1 [00:00<00:00,  4.04it/s]\n",
            "cudf-0.14.0          | 25.7 MB   | : 100% 1.0/1 [00:03<00:00,  3.98s/it]                \n",
            "xorg-xproto-7.0.31   | 73 KB     | : 100% 1.0/1 [00:00<00:00, 26.26it/s]\n",
            "json-c-0.13.1        | 76 KB     | : 100% 1.0/1 [00:00<00:00, 20.71it/s]\n",
            "libcugraph-0.14.0    | 14.3 MB   | : 100% 1.0/1 [00:02<00:00,  2.31s/it] \n",
            "xorg-libxdmcp-1.1.3  | 19 KB     | : 100% 1.0/1 [00:00<00:00, 34.21it/s]\n",
            "python-3.6.12        | 38.4 MB   | : 100% 1.0/1 [00:05<00:00,  5.07s/it]\n",
            "pyasn1-0.4.8         | 53 KB     | : 100% 1.0/1 [00:00<00:00, 13.20it/s]\n",
            "partd-1.1.0          | 17 KB     | : 100% 1.0/1 [00:00<00:00, 18.72it/s]\n",
            "llvm-9.0.0           | 47 KB     | : 100% 1.0/1 [00:00<00:00, 17.16it/s]\n",
            "joblib-1.0.1         | 206 KB    | : 100% 1.0/1 [00:00<00:00, 11.96it/s]\n",
            "packaging-20.9       | 35 KB     | : 100% 1.0/1 [00:00<00:00, 20.14it/s]\n",
            "pixman-0.38.0        | 594 KB    | : 100% 1.0/1 [00:00<00:00,  6.23it/s]\n",
            "xorg-renderproto-0.1 | 8 KB      | : 100% 1.0/1 [00:00<00:00, 24.16it/s]\n",
            "lcms2-2.11           | 434 KB    | : 100% 1.0/1 [00:00<00:00,  9.52it/s]\n",
            "pillow-8.1.0         | 675 KB    | : 100% 1.0/1 [00:00<00:00,  5.72it/s]\n",
            "xorg-libxext-1.3.4   | 51 KB     | : 100% 1.0/1 [00:00<00:00, 23.06it/s]\n",
            "libiconv-1.16        | 1.4 MB    | : 100% 1.0/1 [00:00<00:00,  4.96it/s]\n",
            "gflags-2.2.2         | 114 KB    | : 100% 1.0/1 [00:00<00:00, 10.38it/s]\n",
            "thrift-cpp-0.12.0    | 2.4 MB    | : 100% 1.0/1 [00:00<00:00,  2.33it/s]\n",
            "contextvars-2.4      | 11 KB     | : 100% 1.0/1 [00:00<00:00, 34.42it/s]\n",
            "python-dateutil-2.8. | 220 KB    | : 100% 1.0/1 [00:00<00:00, 17.92it/s]\n",
            "hdf4-4.2.13          | 951 KB    | : 100% 1.0/1 [00:00<00:00,  5.64it/s]\n",
            "libxgboost-1.1.0dev. | 31.1 MB   | : 100% 1.0/1 [00:06<00:00,  6.31s/it]                \n",
            "xorg-libsm-1.2.3     | 25 KB     | : 100% 1.0/1 [00:00<00:00,  3.83it/s]               \n",
            "cudnn-7.6.0          | 240.9 MB  | : 100% 1.0/1 [00:33<00:00, 33.70s/it]\n",
            "libcuspatial-0.14.0  | 3.4 MB    | : 100% 1.0/1 [00:00<00:00,  1.05it/s]               \n",
            "click-7.1.2          | 64 KB     | : 100% 1.0/1 [00:00<00:00, 20.29it/s]\n",
            "multidict-5.1.0      | 67 KB     | : 100% 1.0/1 [00:00<00:00, 16.14it/s]\n",
            "libcurl-7.71.1       | 312 KB    | : 100% 1.0/1 [00:00<00:00,  9.83it/s]\n",
            "xorg-xextproto-7.3.0 | 28 KB     | : 100% 1.0/1 [00:00<00:00, 23.94it/s]\n",
            "librmm-0.14.0        | 189 KB    | : 100% 1.0/1 [00:00<00:00,  2.02it/s]                \n",
            "postgresql-12.3      | 5.0 MB    | : 100% 1.0/1 [00:00<00:00,  1.33it/s]\n",
            "libprotobuf-3.8.0    | 4.7 MB    | : 100% 1.0/1 [00:01<00:00,  1.05s/it]\n",
            "tblib-1.6.0          | 14 KB     | : 100% 1.0/1 [00:00<00:00, 29.90it/s]\n",
            "jpeg-9d              | 264 KB    | : 100% 1.0/1 [00:00<00:00, 11.19it/s]\n",
            "xorg-libx11-1.6.12   | 917 KB    | : 100% 1.0/1 [00:00<00:00,  5.12it/s]\n",
            "cloudpickle-1.6.0    | 22 KB     | : 100% 1.0/1 [00:00<00:00, 27.37it/s]\n",
            "requests-oauthlib-1. | 21 KB     | : 100% 1.0/1 [00:00<00:00, 32.05it/s]\n",
            "re2-2020.04.01       | 438 KB    | : 100% 1.0/1 [00:00<00:00,  9.39it/s]\n",
            "olefile-0.46         | 32 KB     | : 100% 1.0/1 [00:00<00:00, 24.75it/s]\n",
            "arrow-cpp-0.15.0     | 18.1 MB   | : 100% 1.0/1 [00:03<00:00,  3.15s/it]               \n",
            "pyyaml-5.4.1         | 190 KB    | : 100% 1.0/1 [00:00<00:00, 15.94it/s]\n",
            "curl-7.71.1          | 139 KB    | : 100% 1.0/1 [00:00<00:00, 23.08it/s]\n",
            "pytz-2021.1          | 239 KB    | : 100% 1.0/1 [00:00<00:00, 10.71it/s]\n",
            "cusignal-0.16.0      | 821 KB    | : 100% 1.0/1 [00:00<00:00,  3.18it/s]\n",
            "proj-7.0.0           | 3.7 MB    | : 100% 1.0/1 [00:00<00:00,  1.36it/s]\n",
            "dask-cudf-0.14.0     | 81 KB     | : 100% 1.0/1 [00:00<00:00,  5.90it/s]               \n",
            "libllvm8-8.0.1       | 23.2 MB   | : 100% 1.0/1 [00:03<00:00,  3.62s/it]\n",
            "ucx-py-0.14.0+gf6ec8 | 137 KB    | : 100% 1.0/1 [00:00<00:00,  6.58it/s]               \n",
            "freetype-2.10.4      | 890 KB    | : 100% 1.0/1 [00:00<00:00,  4.75it/s]\n",
            "py-xgboost-1.1.0dev. | 106 KB    | : 100% 1.0/1 [00:00<00:00,  5.58it/s]                \n",
            "snappy-1.1.8         | 32 KB     | : 100% 1.0/1 [00:00<00:00, 14.06it/s]\n",
            "glib-tools-2.66.6    | 85 KB     | : 100% 1.0/1 [00:00<00:00, 18.35it/s]\n",
            "locket-0.2.0         | 6 KB      | : 100% 1.0/1 [00:00<00:00, 36.99it/s]\n",
            "jinja2-2.11.3        | 93 KB     | : 100% 1.0/1 [00:00<00:00, 21.10it/s]\n",
            "pyjwt-2.0.1          | 17 KB     | : 100% 1.0/1 [00:00<00:00, 31.07it/s]\n",
            "cytoolz-0.11.0       | 393 KB    | : 100% 1.0/1 [00:00<00:00,  9.42it/s]\n",
            "markupsafe-1.1.1     | 27 KB     | : 100% 1.0/1 [00:00<00:00, 25.05it/s]\n",
            "libpq-12.3           | 2.6 MB    | : 100% 1.0/1 [00:00<00:00,  2.10it/s]\n",
            "libdap4-3.20.6       | 11.4 MB   | : 100% 1.0/1 [00:01<00:00,  1.79s/it]\n",
            "cuspatial-0.14.0     | 3.6 MB    | : 100% 1.0/1 [00:00<00:00,  1.40it/s]\n",
            "libwebp-base-1.2.0   | 808 KB    | : 100% 1.0/1 [00:00<00:00,  6.05it/s]\n",
            "libssh2-1.9.0        | 225 KB    | : 100% 1.0/1 [00:00<00:00, 13.35it/s]\n",
            "poppler-data-0.4.10  | 3.8 MB    | : 100% 1.0/1 [00:00<00:00,  1.70it/s]\n",
            "distributed-2021.2.0 | 1.1 MB    | : 100% 1.0/1 [00:00<00:00,  3.79it/s]\n",
            "tornado-6.1          | 643 KB    | : 100% 1.0/1 [00:00<00:00,  6.01it/s]\n",
            "expat-2.2.10         | 164 KB    | : 100% 1.0/1 [00:00<00:00, 18.42it/s]\n",
            "rsa-4.7              | 27 KB     | : 100% 1.0/1 [00:00<00:00, 25.55it/s]\n",
            "xorg-libice-1.0.10   | 57 KB     | : 100% 1.0/1 [00:00<00:00, 26.11it/s]\n",
            "xorg-kbproto-1.0.7   | 27 KB     | : 100% 1.0/1 [00:00<00:00, 33.64it/s]\n",
            "zict-2.0.0           | 10 KB     | : 100% 1.0/1 [00:00<00:00, 34.40it/s]\n",
            "gdal-3.0.4           | 1.3 MB    | : 100% 1.0/1 [00:00<00:00,  4.31it/s]\n",
            "boost-1.70.0         | 337 KB    | : 100% 1.0/1 [00:00<00:00,  9.70it/s]\n",
            "libtiff-4.1.0        | 568 KB    | : 100% 1.0/1 [00:00<00:00,  8.05it/s]\n",
            "psutil-5.8.0         | 342 KB    | : 100% 1.0/1 [00:00<00:00,  9.80it/s]\n",
            "poppler-0.87.0       | 12.9 MB   | : 100% 1.0/1 [00:02<00:00,  2.08s/it]\n",
            "glib-2.66.6          | 434 KB    | : 100% 1.0/1 [00:00<00:00,  6.65it/s]\n",
            "typing_extensions-3. | 25 KB     | : 100% 1.0/1 [00:00<00:00, 18.38it/s]\n",
            "libedit-3.1.20191231 | 121 KB    | : 100% 1.0/1 [00:00<00:00, 17.81it/s]\n",
            "libxcb-1.13          | 395 KB    | : 100% 1.0/1 [00:00<00:00,  7.43it/s]\n",
            "toolz-0.11.1         | 46 KB     | : 100% 1.0/1 [00:00<00:00, 22.04it/s]\n",
            "spdlog-1.8.2         | 351 KB    | : 100% 1.0/1 [00:00<00:00, 10.66it/s]\n",
            "krb5-1.17.2          | 1.4 MB    | : 100% 1.0/1 [00:00<00:00,  3.80it/s]\n",
            "pyarrow-0.15.0       | 3.2 MB    | : 100% 1.0/1 [00:00<00:00,  1.28it/s]\n",
            "threadpoolctl-2.1.0  | 15 KB     | : 100% 1.0/1 [00:00<00:00, 27.88it/s]\n",
            "fontconfig-2.13.1    | 344 KB    | : 100% 1.0/1 [00:00<00:00, 12.82it/s]\n",
            "libxml2-2.9.10       | 1.3 MB    | : 100% 1.0/1 [00:00<00:00,  3.13it/s]\n",
            "xerces-c-3.2.2       | 1.7 MB    | : 100% 1.0/1 [00:00<00:00,  2.24it/s]\n",
            "geos-3.8.1           | 1.0 MB    | : 100% 1.0/1 [00:00<00:00,  4.36it/s]\n",
            "libglib-2.66.6       | 3.0 MB    | : 100% 1.0/1 [00:00<00:00,  1.70it/s]\n",
            "sortedcontainers-2.3 | 26 KB     | : 100% 1.0/1 [00:00<00:00, 25.56it/s]\n",
            "google-auth-oauthlib | 19 KB     | : 100% 1.0/1 [00:00<00:00, 29.57it/s]\n",
            "tzcode-2021a         | 296 KB    | : 100% 1.0/1 [00:00<00:00,  6.41it/s]\n",
            "libcblas-3.9.0       | 11 KB     | : 100% 1.0/1 [00:00<00:00, 37.97it/s]\n",
            "fastrlock-0.5        | 31 KB     | : 100% 1.0/1 [00:00<00:00, 23.63it/s]\n",
            "xorg-libxrender-0.9. | 31 KB     | : 100% 1.0/1 [00:00<00:00, 30.20it/s]\n",
            "google-auth-1.21.3   | 56 KB     | : 100% 1.0/1 [00:00<00:00, 23.17it/s]\n",
            "libnvstrings-0.14.0  | 30.1 MB   | : 100% 1.0/1 [00:06<00:00,  6.16s/it] \n",
            "heapdict-1.0.1       | 7 KB      | : 100% 1.0/1 [00:00<00:00,  2.69it/s]\n",
            "pyparsing-2.4.7      | 60 KB     | : 100% 1.0/1 [00:00<00:00, 15.57it/s]\n",
            "msgpack-python-1.0.2 | 91 KB     | : 100% 1.0/1 [00:00<00:00,  5.59it/s]                \n",
            "gettext-0.19.8.1     | 3.6 MB    | : 100% 1.0/1 [00:00<00:00,  1.28it/s]               \n",
            "gcsfs-0.7.1          | 22 KB     | : 100% 1.0/1 [00:00<00:00, 33.29it/s]\n",
            "libgfortran-ng-9.3.0 | 22 KB     | : 100% 1.0/1 [00:00<00:00, 33.75it/s]\n",
            "scikit-learn-0.24.1  | 7.5 MB    | : 100% 1.0/1 [00:01<00:00,  1.36s/it]               \n",
            "freexl-1.0.5         | 46 KB     | : 100% 1.0/1 [00:00<00:00, 27.71it/s]\n",
            "libpng-1.6.37        | 306 KB    | : 100% 1.0/1 [00:00<00:00, 10.03it/s]\n",
            "cupy-7.8.0           | 20.6 MB   | : 100% 1.0/1 [00:03<00:00,  3.04s/it]               \n",
            "parquet-cpp-1.5.1    | 3 KB      | : 100% 1.0/1 [00:00<00:00, 30.55it/s]\n",
            "immutables-0.15      | 70 KB     | : 100% 1.0/1 [00:00<00:00, 24.84it/s]\n",
            "xorg-libxau-1.0.9    | 13 KB     | : 100% 1.0/1 [00:00<00:00, 28.27it/s]\n",
            "numpy-1.19.5         | 5.3 MB    | : 100% 1.0/1 [00:00<00:00,  1.03it/s]\n",
            "cuml-0.14.0          | 9.6 MB    | : 100% 1.0/1 [00:01<00:00,  1.59s/it]\n",
            "aiohttp-2.0.7        | 474 KB    | : 100% 1.0/1 [00:00<00:00,  7.96it/s]\n",
            "pynvml-8.0.4         | 31 KB     | : 100% 1.0/1 [00:00<00:00, 28.85it/s]\n",
            "pcre-8.44            | 261 KB    | : 100% 1.0/1 [00:00<00:00,  9.74it/s]\n",
            "double-conversion-3. | 85 KB     | : 100% 1.0/1 [00:00<00:00, 19.19it/s]\n",
            "ucx-1.8.0+gf6ec8d4   | 8.9 MB    | : 100% 1.0/1 [00:01<00:00,  1.35s/it]\n",
            "grpc-cpp-1.23.0      | 4.5 MB    | : 100% 1.0/1 [00:00<00:00,  1.15it/s]\n",
            "openjpeg-2.3.1       | 395 KB    | : 100% 1.0/1 [00:00<00:00,  8.72it/s]\n",
            "hdf5-1.10.6          | 3.1 MB    | : 100% 1.0/1 [00:00<00:00,  2.33it/s]\n",
            "bzip2-1.0.8          | 484 KB    | : 100% 1.0/1 [00:00<00:00,  9.27it/s]\n",
            "libev-4.33           | 104 KB    | : 100% 1.0/1 [00:00<00:00, 20.58it/s]\n",
            "scipy-1.5.3          | 19.1 MB   | : 100% 1.0/1 [00:03<00:00,  3.05s/it]               \n",
            "geotiff-1.6.0        | 280 KB    | : 100% 1.0/1 [00:00<00:00, 12.38it/s]\n",
            "cudatoolkit-10.1.243 | 513.2 MB  | : 100% 1.0/1 [01:09<00:00, 69.41s/it]\n",
            "libuuid-2.32.1       | 28 KB     | : 100% 1.0/1 [00:00<00:00, 18.53it/s]\n",
            "oauthlib-3.0.1       | 82 KB     | : 100% 1.0/1 [00:00<00:00, 15.15it/s]\n",
            "libhwloc-2.1.0       | 2.7 MB    | : 100% 1.0/1 [00:00<00:00,  2.80it/s]\n",
            "numba-0.49.1         | 3.1 MB    | : 100% 1.0/1 [00:00<00:00,  2.74it/s]\n",
            "uriparser-0.9.3      | 49 KB     | : 100% 1.0/1 [00:00<00:00, 24.74it/s]\n",
            "blinker-1.4          | 13 KB     | : 100% 1.0/1 [00:00<00:00, 16.89it/s]\n",
            "libopenblas-0.3.12   | 8.9 MB    | : 100% 1.0/1 [00:01<00:00,  1.50s/it]\n",
            "rmm-0.14.0           | 684 KB    | : 100% 1.0/1 [00:00<00:00,  1.90it/s]\n",
            "libgdal-3.0.4        | 18.8 MB   | : 100% 1.0/1 [00:03<00:00,  3.16s/it]\n",
            "libgfortran5-9.3.0   | 2.0 MB    | : 100% 1.0/1 [00:00<00:00,  2.68it/s]\n",
            "pthread-stubs-0.4    | 5 KB      | : 100% 1.0/1 [00:00<00:00, 30.39it/s]\n",
            "yarl-0.10.0          | 163 KB    | : 100% 1.0/1 [00:00<00:00, 20.24it/s]\n",
            "llvmlite-0.32.1      | 328 KB    | : 100% 1.0/1 [00:00<00:00, 12.68it/s]\n",
            "fastavro-1.3.1       | 484 KB    | : 100% 1.0/1 [00:00<00:00, 10.57it/s]\n",
            "dask-core-2021.2.0   | 681 KB    | : 100% 1.0/1 [00:00<00:00,  5.51it/s]\n",
            "nccl-2.5.7.1         | 98.4 MB   | : 100% 1.0/1 [00:12<00:00, 12.78s/it]               \n",
            "libnghttp2-1.43.0    | 808 KB    | : 100% 1.0/1 [00:00<00:00,  5.77it/s]\n",
            "tbb-2018.0.5         | 1.1 MB    | : 100% 1.0/1 [00:00<00:00,  5.05it/s]\n",
            "nvstrings-0.14.0     | 129 KB    | : 100% 1.0/1 [00:00<00:00,  1.71it/s]                \n",
            "bokeh-2.2.3          | 7.0 MB    | : 100% 1.0/1 [00:01<00:00,  1.64s/it]\n",
            "tiledb-1.7.7         | 2.0 MB    | : 100% 1.0/1 [00:00<00:00,  2.54it/s]\n",
            "Preparing transaction: | \b\b/ \b\b- \b\b\\ \b\b| \b\b/ \b\b- \b\b\\ \b\b| \b\b/ \b\b- \b\b\\ \b\b| \b\b/ \b\b- \b\bdone\n",
            "Verifying transaction: | \b\b/ \b\b- \b\b\\ \b\b| \b\b/ \b\b- \b\b\\ \b\b| \b\b/ \b\b- \b\b\\ \b\b| \b\b/ \b\b- \b\b\\ \b\b| \b\b/ \b\b- \b\b\\ \b\b| \b\b/ \b\b- \b\b\\ \b\b| \b\b/ \b\b- \b\b\\ \b\b| \b\b/ \b\b- \b\b\\ \b\b| \b\b/ \b\b- \b\b\\ \b\b| \b\b/ \b\b- \b\b\\ \b\b| \b\b/ \b\b- \b\b\\ \b\b| \b\b/ \b\b- \b\b\\ \b\b| \b\b/ \b\b- \b\b\\ \b\b| \b\b/ \b\b- \b\b\\ \b\b| \b\b/ \b\b- \b\b\\ \b\b| \b\b/ \b\b- \b\b\\ \b\b| \b\b/ \b\b- \b\b\\ \b\b| \b\b/ \b\b- \b\b\\ \b\b| \b\b/ \b\b- \b\b\\ \b\b| \b\b/ \b\b- \b\b\\ \b\b| \b\b/ \b\b- \b\b\\ \b\b| \b\b/ \b\b- \b\b\\ \b\b| \b\b/ \b\b- \b\b\\ \b\b| \b\b/ \b\b- \b\b\\ \b\b| \b\b/ \b\b- \b\b\\ \b\b| \b\b/ \b\b- \b\b\\ \b\b| \b\b/ \b\b- \b\b\\ \b\b| \b\b/ \b\b- \b\b\\ \b\b| \b\b/ \b\b- \b\b\\ \b\b| \b\b/ \b\b- \b\b\\ \b\b| \b\b/ \b\b- \b\b\\ \b\b| \b\b/ \b\b- \b\b\\ \b\b| \b\b/ \b\b- \b\b\\ \b\b| \b\b/ \b\b- \b\b\\ \b\b| \b\b/ \b\b- \b\b\\ \b\b| \b\b/ \b\b- \b\b\\ \b\b| \b\b/ \b\b- \b\b\\ \b\b| \b\b/ \b\b- \b\b\\ \b\b| \b\b/ \b\b- \b\b\\ \b\b| \b\b/ \b\b- \b\b\\ \b\b| \b\b/ \b\b- \b\b\\ \b\b| \b\b/ \b\b- \b\b\\ \b\b| \b\b/ \b\b- \b\b\\ \b\b| \b\b/ \b\b- \b\b\\ \b\b| \b\b/ \b\b- \b\b\\ \b\b| \b\b/ \b\b- \b\b\\ \b\b| \b\b/ \b\b- \b\b\\ \b\b| \b\b/ \b\b- \b\b\\ \b\b| \b\b/ \b\b- \b\b\\ \b\b| \b\b/ \b\b- \b\b\\ \b\b| \b\b/ \b\b- \b\b\\ \b\b| \b\b/ \b\b- \b\b\\ \b\b| \b\b/ \b\b- \b\b\\ \b\b| \b\b/ \b\b- \b\b\\ \b\b| \b\b/ \b\b- \b\b\\ \b\b| \b\b/ \b\b- \b\b\\ \b\b| \b\b/ \b\b- \b\b\\ \b\b| \b\b/ \b\b- \b\b\\ \b\b| \b\b/ \b\b- \b\b\\ \b\b| \b\b/ \b\b- \b\b\\ \b\b| \b\b/ \b\b- \b\b\\ \b\b| \b\b/ \b\b- \b\b\\ \b\b| \b\b/ \b\b- \b\b\\ \b\b| \b\b/ \b\b- \b\b\\ \b\b| \b\b/ \b\b- \b\b\\ \b\b| \b\b/ \b\b- \b\b\\ \b\b| \b\b/ \b\b- \b\b\\ \b\b| \b\b/ \b\b- \b\b\\ \b\b| \b\b/ \b\b- \b\b\\ \b\b| \b\b/ \b\b- \b\b\\ \b\b| \b\b/ \b\b- \b\b\\ \b\b| \b\b/ \b\b- \b\b\\ \b\b| \b\b/ \b\b- \b\b\\ \b\b| \b\b/ \b\b- \b\b\\ \b\b| \b\b/ \b\b- \b\b\\ \b\b| \b\b/ \b\b- \b\b\\ \b\b| \b\b/ \b\b- \b\b\\ \b\b| \b\b/ \b\b- \b\b\\ \b\b| \b\b/ \b\b- \b\b\\ \b\b| \b\b/ \b\b- \b\b\\ \b\b| \b\b/ \b\b- \b\b\\ \b\b| \b\b/ \b\b- \b\b\\ \b\b| \b\b/ \b\b- \b\b\\ \b\b| \b\b/ \b\b- \b\b\\ \b\b| \b\b/ \b\b- \b\b\\ \b\b| \b\b/ \b\b- \b\b\\ \b\b| \b\b/ \b\b- \b\b\\ \b\b| \b\b/ \b\b- \b\b\\ \b\b| \b\b/ \b\b- \b\b\\ \b\b| \b\b/ \b\b- \b\b\\ \b\b| \b\b/ \b\b- \b\b\\ \b\b| \b\b/ \b\b- \b\b\\ \b\b| \b\b/ \b\b- \b\b\\ \b\b| \b\b/ \b\b- \b\b\\ \b\b| \b\b/ \b\b- \b\b\\ \b\b| \b\b/ \b\b- \b\b\\ \b\b| \b\b/ \b\b- \b\b\\ \b\b| \b\b/ \b\b- \b\b\\ \b\b| \b\b/ \b\b- \b\b\\ \b\b| \b\b/ \b\b- \b\b\\ \b\b| \b\b/ \b\b- \b\b\\ \b\b| \b\b/ \b\b- \b\b\\ \b\b| \b\b/ \b\b- \b\b\\ \b\b| \b\b/ \b\b- \b\b\\ \b\b| \b\b/ \b\b- \b\b\\ \b\b| \b\b/ \b\b- \b\b\\ \b\b| \b\b/ \b\b- \b\b\\ \b\b| \b\b/ \b\b- \b\b\\ \b\b| \b\b/ \b\b- \b\b\\ \b\b| \b\b/ \b\b- \b\b\\ \b\b| \b\b/ \b\b- \b\b\\ \b\b| \b\b/ \b\b- \b\b\\ \b\bdone\n",
            "Executing transaction: / \b\b- \b\b\\ \b\b| \b\b/ \b\b- \b\b\\ \b\b| \b\b/ \b\b- \b\b\\ \b\b| \b\b/ \b\b- \b\b\\ \b\b| \b\b/ \b\b- \b\b\\ \b\b| \b\b/ \b\b- \b\b\\ \b\b| \b\b/ \b\b- \b\b\\ \b\b| \b\b/ \b\b- \b\b\\ \b\b| \b\b/ \b\b- \b\b\\ \b\b| \b\b/ \b\b- \b\b\\ \b\b| \b\b/ \b\b- \b\b\\ \b\b| \b\b/ \b\b- \b\b\\ \b\b| \b\b/ \b\b- \b\b\\ \b\b| \b\b/ \b\b- \b\b\\ \b\b| \b\b/ \b\bdone\n",
            "Copying shared object files to /usr/lib\n",
            "Copying RAPIDS compatible xgboost\n",
            "\n",
            "************************************************\n",
            "Your Google Colab instance has RAPIDS installed!\n",
            "************************************************\n",
            "***********************************************************************\n",
            "Let us check on those pyarrow and cffi versions...\n",
            "***********************************************************************\n",
            "\n",
            "You're don't have pyarrow.\n",
            "unloaded cffi 1.14.4\n",
            "loaded cffi 1.14.4\n"
          ],
          "name": "stdout"
        }
      ]
    },
    {
      "cell_type": "code",
      "metadata": {
        "id": "mTy9C_8Gn2ZA"
      },
      "source": [
        "import cudf"
      ],
      "execution_count": null,
      "outputs": []
    },
    {
      "cell_type": "code",
      "metadata": {
        "colab": {
          "base_uri": "https://localhost:8080/"
        },
        "id": "tZ-RAucPUlSY",
        "outputId": "68cc4c10-4b5d-44ac-f2d0-fc2990f5e8f7"
      },
      "source": [
        "!nvcc -V"
      ],
      "execution_count": null,
      "outputs": [
        {
          "output_type": "stream",
          "text": [
            "nvcc: NVIDIA (R) Cuda compiler driver\n",
            "Copyright (c) 2005-2019 NVIDIA Corporation\n",
            "Built on Sun_Jul_28_19:07:16_PDT_2019\n",
            "Cuda compilation tools, release 10.1, V10.1.243\n"
          ],
          "name": "stdout"
        }
      ]
    },
    {
      "cell_type": "code",
      "metadata": {
        "colab": {
          "base_uri": "https://localhost:8080/"
        },
        "id": "LC4U_A2B9TsU",
        "outputId": "84c1af6a-ae41-4f0c-93e5-264069a1678a"
      },
      "source": [
        "!nvidia-smi"
      ],
      "execution_count": null,
      "outputs": [
        {
          "output_type": "stream",
          "text": [
            "Wed Feb 10 18:07:46 2021       \n",
            "+-----------------------------------------------------------------------------+\n",
            "| NVIDIA-SMI 460.39       Driver Version: 418.67       CUDA Version: 10.1     |\n",
            "|-------------------------------+----------------------+----------------------+\n",
            "| GPU  Name        Persistence-M| Bus-Id        Disp.A | Volatile Uncorr. ECC |\n",
            "| Fan  Temp  Perf  Pwr:Usage/Cap|         Memory-Usage | GPU-Util  Compute M. |\n",
            "|                               |                      |               MIG M. |\n",
            "|===============================+======================+======================|\n",
            "|   0  Tesla T4            Off  | 00000000:00:04.0 Off |                    0 |\n",
            "| N/A   41C    P8    10W /  70W |     10MiB / 15079MiB |      0%      Default |\n",
            "|                               |                      |                 ERR! |\n",
            "+-------------------------------+----------------------+----------------------+\n",
            "                                                                               \n",
            "+-----------------------------------------------------------------------------+\n",
            "| Processes:                                                                  |\n",
            "|  GPU   GI   CI        PID   Type   Process name                  GPU Memory |\n",
            "|        ID   ID                                                   Usage      |\n",
            "|=============================================================================|\n",
            "|  No running processes found                                                 |\n",
            "+-----------------------------------------------------------------------------+\n"
          ],
          "name": "stdout"
        }
      ]
    },
    {
      "cell_type": "code",
      "metadata": {
        "colab": {
          "base_uri": "https://localhost:8080/"
        },
        "id": "WAJrWJdrUyqd",
        "outputId": "26f00a95-9c56-4f84-a61f-3d94bf13df21"
      },
      "source": [
        "!python -V; pip -V"
      ],
      "execution_count": null,
      "outputs": [
        {
          "output_type": "stream",
          "text": [
            "Python 3.6.12\n",
            "pip 21.0.1 from /usr/local/lib/python3.6/site-packages/pip (python 3.6)\n"
          ],
          "name": "stdout"
        }
      ]
    },
    {
      "cell_type": "code",
      "metadata": {
        "id": "pJ11iJUSsl2t"
      },
      "source": [
        "import cuml\n",
        "from cuml import datasets"
      ],
      "execution_count": null,
      "outputs": []
    },
    {
      "cell_type": "code",
      "metadata": {
        "id": "OMRVWyrhtIp3"
      },
      "source": [
        "da=cudf.read_csv(\"/content/sample_data/california_housing_train.csv\")"
      ],
      "execution_count": null,
      "outputs": []
    },
    {
      "cell_type": "code",
      "metadata": {
        "colab": {
          "base_uri": "https://localhost:8080/",
          "height": 224
        },
        "id": "nECT3mPYPo4A",
        "outputId": "d4423ed2-1def-4ce6-e34f-3a0f867437cc"
      },
      "source": [
        "da.head()"
      ],
      "execution_count": null,
      "outputs": [
        {
          "output_type": "execute_result",
          "data": {
            "text/html": [
              "<div>\n",
              "<style scoped>\n",
              "    .dataframe tbody tr th:only-of-type {\n",
              "        vertical-align: middle;\n",
              "    }\n",
              "\n",
              "    .dataframe tbody tr th {\n",
              "        vertical-align: top;\n",
              "    }\n",
              "\n",
              "    .dataframe thead th {\n",
              "        text-align: right;\n",
              "    }\n",
              "</style>\n",
              "<table border=\"1\" class=\"dataframe\">\n",
              "  <thead>\n",
              "    <tr style=\"text-align: right;\">\n",
              "      <th></th>\n",
              "      <th>longitude</th>\n",
              "      <th>latitude</th>\n",
              "      <th>housing_median_age</th>\n",
              "      <th>total_rooms</th>\n",
              "      <th>total_bedrooms</th>\n",
              "      <th>population</th>\n",
              "      <th>households</th>\n",
              "      <th>median_income</th>\n",
              "      <th>median_house_value</th>\n",
              "    </tr>\n",
              "  </thead>\n",
              "  <tbody>\n",
              "    <tr>\n",
              "      <th>0</th>\n",
              "      <td>-114.31</td>\n",
              "      <td>34.19</td>\n",
              "      <td>15.0</td>\n",
              "      <td>5612.0</td>\n",
              "      <td>1283.0</td>\n",
              "      <td>1015.0</td>\n",
              "      <td>472.0</td>\n",
              "      <td>1.4936</td>\n",
              "      <td>66900.0</td>\n",
              "    </tr>\n",
              "    <tr>\n",
              "      <th>1</th>\n",
              "      <td>-114.47</td>\n",
              "      <td>34.40</td>\n",
              "      <td>19.0</td>\n",
              "      <td>7650.0</td>\n",
              "      <td>1901.0</td>\n",
              "      <td>1129.0</td>\n",
              "      <td>463.0</td>\n",
              "      <td>1.8200</td>\n",
              "      <td>80100.0</td>\n",
              "    </tr>\n",
              "    <tr>\n",
              "      <th>2</th>\n",
              "      <td>-114.56</td>\n",
              "      <td>33.69</td>\n",
              "      <td>17.0</td>\n",
              "      <td>720.0</td>\n",
              "      <td>174.0</td>\n",
              "      <td>333.0</td>\n",
              "      <td>117.0</td>\n",
              "      <td>1.6509</td>\n",
              "      <td>85700.0</td>\n",
              "    </tr>\n",
              "    <tr>\n",
              "      <th>3</th>\n",
              "      <td>-114.57</td>\n",
              "      <td>33.64</td>\n",
              "      <td>14.0</td>\n",
              "      <td>1501.0</td>\n",
              "      <td>337.0</td>\n",
              "      <td>515.0</td>\n",
              "      <td>226.0</td>\n",
              "      <td>3.1917</td>\n",
              "      <td>73400.0</td>\n",
              "    </tr>\n",
              "    <tr>\n",
              "      <th>4</th>\n",
              "      <td>-114.57</td>\n",
              "      <td>33.57</td>\n",
              "      <td>20.0</td>\n",
              "      <td>1454.0</td>\n",
              "      <td>326.0</td>\n",
              "      <td>624.0</td>\n",
              "      <td>262.0</td>\n",
              "      <td>1.9250</td>\n",
              "      <td>65500.0</td>\n",
              "    </tr>\n",
              "  </tbody>\n",
              "</table>\n",
              "</div>"
            ],
            "text/plain": [
              "   longitude  latitude  ...  median_income  median_house_value\n",
              "0    -114.31     34.19  ...         1.4936             66900.0\n",
              "1    -114.47     34.40  ...         1.8200             80100.0\n",
              "2    -114.56     33.69  ...         1.6509             85700.0\n",
              "3    -114.57     33.64  ...         3.1917             73400.0\n",
              "4    -114.57     33.57  ...         1.9250             65500.0\n",
              "\n",
              "[5 rows x 9 columns]"
            ]
          },
          "metadata": {
            "tags": []
          },
          "execution_count": 12
        }
      ]
    },
    {
      "cell_type": "code",
      "metadata": {
        "colab": {
          "base_uri": "https://localhost:8080/"
        },
        "id": "6b8owFbKymaQ",
        "outputId": "cf65d2bb-1657-4c7e-9dd0-9a103c88ec84"
      },
      "source": [
        "da.columns"
      ],
      "execution_count": null,
      "outputs": [
        {
          "output_type": "execute_result",
          "data": {
            "text/plain": [
              "Index(['longitude', 'latitude', 'housing_median_age', 'total_rooms',\n",
              "       'total_bedrooms', 'population', 'households', 'median_income',\n",
              "       'median_house_value'],\n",
              "      dtype='object')"
            ]
          },
          "metadata": {
            "tags": []
          },
          "execution_count": 13
        }
      ]
    },
    {
      "cell_type": "code",
      "metadata": {
        "colab": {
          "base_uri": "https://localhost:8080/"
        },
        "id": "Gfb2luuwvDPS",
        "outputId": "94a8f17a-3160-4188-d831-267607477885"
      },
      "source": [
        "da.shape"
      ],
      "execution_count": null,
      "outputs": [
        {
          "output_type": "execute_result",
          "data": {
            "text/plain": [
              "(17000, 9)"
            ]
          },
          "metadata": {
            "tags": []
          },
          "execution_count": 14
        }
      ]
    },
    {
      "cell_type": "code",
      "metadata": {
        "id": "qaCeGoxVIWdT"
      },
      "source": [
        "x=da.iloc[:,:-1].values\n",
        "y=da[\"median_house_value\"].values"
      ],
      "execution_count": null,
      "outputs": []
    },
    {
      "cell_type": "code",
      "metadata": {
        "colab": {
          "base_uri": "https://localhost:8080/"
        },
        "id": "y5sChUbExvgB",
        "outputId": "1efd61b6-7065-4db8-dfc0-8e0b58011e87"
      },
      "source": [
        "x.shape"
      ],
      "execution_count": null,
      "outputs": [
        {
          "output_type": "execute_result",
          "data": {
            "text/plain": [
              "(17000, 8)"
            ]
          },
          "metadata": {
            "tags": []
          },
          "execution_count": 19
        }
      ]
    },
    {
      "cell_type": "code",
      "metadata": {
        "id": "K22YC2Io_xMg"
      },
      "source": [
        "\n",
        "from sklearn.model_selection import train_test_split\n",
        "x_train, x_test, y_train, y_test = train_test_split(x,y , test_size=0.2,random_state=10)"
      ],
      "execution_count": null,
      "outputs": []
    },
    {
      "cell_type": "code",
      "metadata": {
        "colab": {
          "base_uri": "https://localhost:8080/"
        },
        "id": "SGiys0Yu9RQI",
        "outputId": "36831547-6b01-43a8-a9c0-e080632834ea"
      },
      "source": [
        "x_train.shape"
      ],
      "execution_count": null,
      "outputs": [
        {
          "output_type": "execute_result",
          "data": {
            "text/plain": [
              "(13600, 8)"
            ]
          },
          "metadata": {
            "tags": []
          },
          "execution_count": 86
        }
      ]
    },
    {
      "cell_type": "code",
      "metadata": {
        "colab": {
          "base_uri": "https://localhost:8080/"
        },
        "id": "NJ3CziJ4--e1",
        "outputId": "76fe0d59-7458-4957-e506-4997114a191d"
      },
      "source": [
        "y_train.shape"
      ],
      "execution_count": null,
      "outputs": [
        {
          "output_type": "execute_result",
          "data": {
            "text/plain": [
              "(13600,)"
            ]
          },
          "metadata": {
            "tags": []
          },
          "execution_count": 87
        }
      ]
    },
    {
      "cell_type": "code",
      "metadata": {
        "colab": {
          "base_uri": "https://localhost:8080/"
        },
        "id": "JVwi8Qi0hpft",
        "outputId": "e824ec14-d49f-4133-a98f-0b119c31dd6e"
      },
      "source": [
        "y_test.shape"
      ],
      "execution_count": null,
      "outputs": [
        {
          "output_type": "execute_result",
          "data": {
            "text/plain": [
              "(3400,)"
            ]
          },
          "metadata": {
            "tags": []
          },
          "execution_count": 88
        }
      ]
    },
    {
      "cell_type": "code",
      "metadata": {
        "colab": {
          "base_uri": "https://localhost:8080/"
        },
        "id": "FI82-GLt9xlp",
        "outputId": "f633f532-1a5e-4316-9d27-604e827ca493"
      },
      "source": [
        "x_test.shape"
      ],
      "execution_count": null,
      "outputs": [
        {
          "output_type": "execute_result",
          "data": {
            "text/plain": [
              "(3400, 8)"
            ]
          },
          "metadata": {
            "tags": []
          },
          "execution_count": 89
        }
      ]
    },
    {
      "cell_type": "code",
      "metadata": {
        "colab": {
          "base_uri": "https://localhost:8080/"
        },
        "id": "aDEJQ6SjQdMg",
        "outputId": "0050fce9-1437-4a34-f985-dbbbc95185d7"
      },
      "source": [
        "x_train.astype(\"float\")\n",
        "y_train.astype(\"float\")"
      ],
      "execution_count": null,
      "outputs": [
        {
          "output_type": "execute_result",
          "data": {
            "text/plain": [
              "array([178500., 147000., 117300., ..., 189000., 118800., 130300.])"
            ]
          },
          "metadata": {
            "tags": []
          },
          "execution_count": 90
        }
      ]
    },
    {
      "cell_type": "code",
      "metadata": {
        "colab": {
          "base_uri": "https://localhost:8080/"
        },
        "id": "HB3WLiqZPGou",
        "outputId": "19617592-1b0b-4dcb-c96a-ecfb5de11ceb"
      },
      "source": [
        "from cuml.linear_model import LinearRegression\n",
        "reg=LinearRegression()\n",
        "reg.fit(x_train,y_train)"
      ],
      "execution_count": null,
      "outputs": [
        {
          "output_type": "execute_result",
          "data": {
            "text/plain": [
              "LinearRegression(algorithm='eig', fit_intercept=True, normalize=False, handle=<cuml.common.handle.Handle object at 0x7fea43764df0>, verbose=2, output_type='cupy')"
            ]
          },
          "metadata": {
            "tags": []
          },
          "execution_count": 91
        }
      ]
    },
    {
      "cell_type": "code",
      "metadata": {
        "colab": {
          "base_uri": "https://localhost:8080/"
        },
        "id": "d4F4lU3KYIxQ",
        "outputId": "65893a7f-8e57-426b-e7f0-b953a1eabeaf"
      },
      "source": [
        "s = time.time()\n",
        "y_pre=reg.predict(x_test)\n",
        "e = time.time()\n",
        "rap_time = e - s\n",
        "print(\"rap Time = {}\".format(rap_time))"
      ],
      "execution_count": null,
      "outputs": [
        {
          "output_type": "stream",
          "text": [
            "rap Time = 0.0017185211181640625\n"
          ],
          "name": "stdout"
        }
      ]
    },
    {
      "cell_type": "code",
      "metadata": {
        "colab": {
          "base_uri": "https://localhost:8080/"
        },
        "id": "E806vksXVXcb",
        "outputId": "878b03db-75f3-44ab-ff90-33e44d3dd856"
      },
      "source": [
        "!nvidia-smi"
      ],
      "execution_count": null,
      "outputs": [
        {
          "output_type": "stream",
          "text": [
            "Wed Feb 10 18:53:08 2021       \n",
            "+-----------------------------------------------------------------------------+\n",
            "| NVIDIA-SMI 460.39       Driver Version: 418.67       CUDA Version: 10.1     |\n",
            "|-------------------------------+----------------------+----------------------+\n",
            "| GPU  Name        Persistence-M| Bus-Id        Disp.A | Volatile Uncorr. ECC |\n",
            "| Fan  Temp  Perf  Pwr:Usage/Cap|         Memory-Usage | GPU-Util  Compute M. |\n",
            "|                               |                      |               MIG M. |\n",
            "|===============================+======================+======================|\n",
            "|   0  Tesla T4            Off  | 00000000:00:04.0 Off |                    0 |\n",
            "| N/A   77C    P0    34W /  70W |    567MiB / 15079MiB |      0%      Default |\n",
            "|                               |                      |                 ERR! |\n",
            "+-------------------------------+----------------------+----------------------+\n",
            "                                                                               \n",
            "+-----------------------------------------------------------------------------+\n",
            "| Processes:                                                                  |\n",
            "|  GPU   GI   CI        PID   Type   Process name                  GPU Memory |\n",
            "|        ID   ID                                                   Usage      |\n",
            "|=============================================================================|\n",
            "|  No running processes found                                                 |\n",
            "+-----------------------------------------------------------------------------+\n"
          ],
          "name": "stdout"
        }
      ]
    },
    {
      "cell_type": "code",
      "metadata": {
        "colab": {
          "base_uri": "https://localhost:8080/"
        },
        "id": "B23RsKeISO3B",
        "outputId": "bdacd4ad-acf5-4a72-a20a-08639da3606f"
      },
      "source": [
        "r2_score(y_pre,y_test)"
      ],
      "execution_count": null,
      "outputs": [
        {
          "output_type": "execute_result",
          "data": {
            "text/plain": [
              "0.45361955183909397"
            ]
          },
          "metadata": {
            "tags": []
          },
          "execution_count": 97
        }
      ]
    },
    {
      "cell_type": "code",
      "metadata": {
        "id": "9TQDrcLYWV4v"
      },
      "source": [
        ""
      ],
      "execution_count": null,
      "outputs": []
    },
    {
      "cell_type": "code",
      "metadata": {
        "id": "xay-LxDuXj_e"
      },
      "source": [
        ""
      ],
      "execution_count": null,
      "outputs": []
    },
    {
      "cell_type": "code",
      "metadata": {
        "id": "NqLmLlf_Xyp0"
      },
      "source": [
        ""
      ],
      "execution_count": null,
      "outputs": []
    },
    {
      "cell_type": "code",
      "metadata": {
        "id": "aH5bF-X_YxbS"
      },
      "source": [
        ""
      ],
      "execution_count": null,
      "outputs": []
    },
    {
      "cell_type": "code",
      "metadata": {
        "id": "7dToy2boZHzh"
      },
      "source": [
        ""
      ],
      "execution_count": null,
      "outputs": []
    },
    {
      "cell_type": "code",
      "metadata": {
        "id": "fQAIp7-nZQBH"
      },
      "source": [
        ""
      ],
      "execution_count": null,
      "outputs": []
    },
    {
      "cell_type": "code",
      "metadata": {
        "id": "WGKN-1YocmUN"
      },
      "source": [
        ""
      ],
      "execution_count": null,
      "outputs": []
    },
    {
      "cell_type": "code",
      "metadata": {
        "id": "I3ZTuwMyhHcN"
      },
      "source": [
        ""
      ],
      "execution_count": null,
      "outputs": []
    },
    {
      "cell_type": "code",
      "metadata": {
        "id": "GEuagOsqi9KY"
      },
      "source": [
        ""
      ],
      "execution_count": null,
      "outputs": []
    }
  ]
}